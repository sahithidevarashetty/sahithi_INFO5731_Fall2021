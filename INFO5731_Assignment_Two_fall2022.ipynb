{
  "cells": [
    {
      "cell_type": "markdown",
      "metadata": {
        "id": "view-in-github",
        "colab_type": "text"
      },
      "source": [
        "<a href=\"https://colab.research.google.com/github/sahithidevarashetty/sahithi_INFO5731_Fall2021/blob/main/INFO5731_Assignment_Two_fall2022.ipynb\" target=\"_parent\"><img src=\"https://colab.research.google.com/assets/colab-badge.svg\" alt=\"Open In Colab\"/></a>"
      ]
    },
    {
      "cell_type": "markdown",
      "metadata": {
        "id": "USSdXHuqnwv9"
      },
      "source": [
        "# **INFO5731 Assignment Two**\n",
        "\n",
        "In this assignment, you will try to gather text data from open data source via web scraping or API. After that you need to clean the text data and syntactic analysis of the data."
      ]
    },
    {
      "cell_type": "markdown",
      "metadata": {
        "id": "YWxodXh5n4xF"
      },
      "source": [
        "# **Question 1**"
      ]
    },
    {
      "cell_type": "markdown",
      "metadata": {
        "id": "TenBkDJ5n95k"
      },
      "source": [
        "(40 points). Write a python program to collect text data from **either of the following sources** and save the data into a **csv file**:\n",
        "\n",
        "(1) Collect all the customer reviews of the product [Apple iPhone 11](https://www.amazon.com/Apple-iPhone-11-64GB-Unlocked/dp/B07ZPKF8RG/ref=sr_1_13?dchild=1&keywords=iphone+12&qid=1631721363&sr=8-13) on amazon.\n",
        "\n",
        "(2) Collect the top 10000 User Reviews of the film [Shang-Chi and the Legend of the Ten Rings](https://www.imdb.com/title/tt9376612/reviews?ref_=tt_sa_3) from IMDB.\n",
        "\n",
        "(3) Collect all the reviews of the top 100 most popular software from [G2](https://www.g2.com/) or [Capterra](https://www.capterra.com/)\n",
        "\n",
        "(4) Collect the abstracts of the top 10000 research papers by using the query [natural language processing](https://citeseerx.ist.psu.edu/search?q=natural+language+processing&submit.x=0&submit.y=0&sort=rlv&t=doc) from CiteSeerX.\n",
        "\n",
        "(5) Collect all the information of the 904 narrators in the [Densho Digital Repository](https://ddr.densho.org/narrators/).\n",
        "\n",
        "(6) Collect the top 10000 tweets by using hashtag [\"#blacklivesmatter\"](https://twitter.com/hashtag/blacklivesmatter) from Twitter. \n"
      ]
    },
    {
      "cell_type": "code",
      "execution_count": null,
      "metadata": {
        "id": "PuFPKhC0m1fd"
      },
      "outputs": [],
      "source": [
        "# Write your code here\n",
        "\n",
        "from bs4 import BeautifulSoup\n",
        "import requests\n",
        "import pandas as pd\n",
        "\n",
        "base_url = \"https://www.amazon.in/Apple-iPhone-11-128GB-Black/product-reviews/B07XVLW7YK/ref=cm_cr_arp_d_paging_btm_next_2?ie=UTF8&reviewerType=all_reviews&pageNumber=\"\n",
        "all_reviewers = []\n",
        "all_reviews = []\n",
        "for i in range(1, 100):\n",
        "  soup = BeautifulSoup(requests.get(base_url+str(i)).text, 'html.parser')\n",
        "  reviews = soup.findAll(\"div\", {\"class\" : \"review\"})\n",
        "  for review in reviews:\n",
        "    name = review.find(\"span\", {\"class\" : \"a-profile-name\"}).get_text()\n",
        "    review = review.find(\"span\", {\"class\" : \"review-text-content\"}).get_text()\n",
        "\n",
        "    all_reviewers.append(name)\n",
        "    all_reviews.append(review)\n",
        "\n",
        "df = pd.DataFrame({\n",
        "  \"name\": all_reviewers,\n",
        "  \"reviews\": all_reviews\n",
        "})"
      ]
    },
    {
      "cell_type": "code",
      "execution_count": null,
      "metadata": {
        "colab": {
          "base_uri": "https://localhost:8080/",
          "height": 204
        },
        "id": "2jxwwa_tuhcJ",
        "outputId": "8e17d818-b7b8-46ce-8278-490ebe9b1214"
      },
      "outputs": [
        {
          "output_type": "execute_result",
          "data": {
            "text/plain": [
              "                 name                                            reviews\n",
              "0              pk2013  \\nBeen almost 10 months I have been using the ...\n",
              "1                  PR  \\nThis is my first iPhone. After being an Andr...\n",
              "2     Lalhruaitluanga  \\nIf u read the review you will know that ther...\n",
              "3          BJ Mansata  \\nAn excellent response received from AMAZON, ...\n",
              "4  Abhishek Mukherjee  \\nFrom the last 3 months, i was waiting for th..."
            ],
            "text/html": [
              "\n",
              "  <div id=\"df-71e15728-02f7-44be-837e-c24ce15d4f43\">\n",
              "    <div class=\"colab-df-container\">\n",
              "      <div>\n",
              "<style scoped>\n",
              "    .dataframe tbody tr th:only-of-type {\n",
              "        vertical-align: middle;\n",
              "    }\n",
              "\n",
              "    .dataframe tbody tr th {\n",
              "        vertical-align: top;\n",
              "    }\n",
              "\n",
              "    .dataframe thead th {\n",
              "        text-align: right;\n",
              "    }\n",
              "</style>\n",
              "<table border=\"1\" class=\"dataframe\">\n",
              "  <thead>\n",
              "    <tr style=\"text-align: right;\">\n",
              "      <th></th>\n",
              "      <th>name</th>\n",
              "      <th>reviews</th>\n",
              "    </tr>\n",
              "  </thead>\n",
              "  <tbody>\n",
              "    <tr>\n",
              "      <th>0</th>\n",
              "      <td>pk2013</td>\n",
              "      <td>\\nBeen almost 10 months I have been using the ...</td>\n",
              "    </tr>\n",
              "    <tr>\n",
              "      <th>1</th>\n",
              "      <td>PR</td>\n",
              "      <td>\\nThis is my first iPhone. After being an Andr...</td>\n",
              "    </tr>\n",
              "    <tr>\n",
              "      <th>2</th>\n",
              "      <td>Lalhruaitluanga</td>\n",
              "      <td>\\nIf u read the review you will know that ther...</td>\n",
              "    </tr>\n",
              "    <tr>\n",
              "      <th>3</th>\n",
              "      <td>BJ Mansata</td>\n",
              "      <td>\\nAn excellent response received from AMAZON, ...</td>\n",
              "    </tr>\n",
              "    <tr>\n",
              "      <th>4</th>\n",
              "      <td>Abhishek Mukherjee</td>\n",
              "      <td>\\nFrom the last 3 months, i was waiting for th...</td>\n",
              "    </tr>\n",
              "  </tbody>\n",
              "</table>\n",
              "</div>\n",
              "      <button class=\"colab-df-convert\" onclick=\"convertToInteractive('df-71e15728-02f7-44be-837e-c24ce15d4f43')\"\n",
              "              title=\"Convert this dataframe to an interactive table.\"\n",
              "              style=\"display:none;\">\n",
              "        \n",
              "  <svg xmlns=\"http://www.w3.org/2000/svg\" height=\"24px\"viewBox=\"0 0 24 24\"\n",
              "       width=\"24px\">\n",
              "    <path d=\"M0 0h24v24H0V0z\" fill=\"none\"/>\n",
              "    <path d=\"M18.56 5.44l.94 2.06.94-2.06 2.06-.94-2.06-.94-.94-2.06-.94 2.06-2.06.94zm-11 1L8.5 8.5l.94-2.06 2.06-.94-2.06-.94L8.5 2.5l-.94 2.06-2.06.94zm10 10l.94 2.06.94-2.06 2.06-.94-2.06-.94-.94-2.06-.94 2.06-2.06.94z\"/><path d=\"M17.41 7.96l-1.37-1.37c-.4-.4-.92-.59-1.43-.59-.52 0-1.04.2-1.43.59L10.3 9.45l-7.72 7.72c-.78.78-.78 2.05 0 2.83L4 21.41c.39.39.9.59 1.41.59.51 0 1.02-.2 1.41-.59l7.78-7.78 2.81-2.81c.8-.78.8-2.07 0-2.86zM5.41 20L4 18.59l7.72-7.72 1.47 1.35L5.41 20z\"/>\n",
              "  </svg>\n",
              "      </button>\n",
              "      \n",
              "  <style>\n",
              "    .colab-df-container {\n",
              "      display:flex;\n",
              "      flex-wrap:wrap;\n",
              "      gap: 12px;\n",
              "    }\n",
              "\n",
              "    .colab-df-convert {\n",
              "      background-color: #E8F0FE;\n",
              "      border: none;\n",
              "      border-radius: 50%;\n",
              "      cursor: pointer;\n",
              "      display: none;\n",
              "      fill: #1967D2;\n",
              "      height: 32px;\n",
              "      padding: 0 0 0 0;\n",
              "      width: 32px;\n",
              "    }\n",
              "\n",
              "    .colab-df-convert:hover {\n",
              "      background-color: #E2EBFA;\n",
              "      box-shadow: 0px 1px 2px rgba(60, 64, 67, 0.3), 0px 1px 3px 1px rgba(60, 64, 67, 0.15);\n",
              "      fill: #174EA6;\n",
              "    }\n",
              "\n",
              "    [theme=dark] .colab-df-convert {\n",
              "      background-color: #3B4455;\n",
              "      fill: #D2E3FC;\n",
              "    }\n",
              "\n",
              "    [theme=dark] .colab-df-convert:hover {\n",
              "      background-color: #434B5C;\n",
              "      box-shadow: 0px 1px 3px 1px rgba(0, 0, 0, 0.15);\n",
              "      filter: drop-shadow(0px 1px 2px rgba(0, 0, 0, 0.3));\n",
              "      fill: #FFFFFF;\n",
              "    }\n",
              "  </style>\n",
              "\n",
              "      <script>\n",
              "        const buttonEl =\n",
              "          document.querySelector('#df-71e15728-02f7-44be-837e-c24ce15d4f43 button.colab-df-convert');\n",
              "        buttonEl.style.display =\n",
              "          google.colab.kernel.accessAllowed ? 'block' : 'none';\n",
              "\n",
              "        async function convertToInteractive(key) {\n",
              "          const element = document.querySelector('#df-71e15728-02f7-44be-837e-c24ce15d4f43');\n",
              "          const dataTable =\n",
              "            await google.colab.kernel.invokeFunction('convertToInteractive',\n",
              "                                                     [key], {});\n",
              "          if (!dataTable) return;\n",
              "\n",
              "          const docLinkHtml = 'Like what you see? Visit the ' +\n",
              "            '<a target=\"_blank\" href=https://colab.research.google.com/notebooks/data_table.ipynb>data table notebook</a>'\n",
              "            + ' to learn more about interactive tables.';\n",
              "          element.innerHTML = '';\n",
              "          dataTable['output_type'] = 'display_data';\n",
              "          await google.colab.output.renderOutput(dataTable, element);\n",
              "          const docLink = document.createElement('div');\n",
              "          docLink.innerHTML = docLinkHtml;\n",
              "          element.appendChild(docLink);\n",
              "        }\n",
              "      </script>\n",
              "    </div>\n",
              "  </div>\n",
              "  "
            ]
          },
          "metadata": {},
          "execution_count": 36
        }
      ],
      "source": [
        "df.head()"
      ]
    },
    {
      "cell_type": "markdown",
      "metadata": {
        "id": "AfpMRCrRwN6Z"
      },
      "source": [
        "# **Question 2**"
      ]
    },
    {
      "cell_type": "markdown",
      "metadata": {
        "id": "1dCQEbDawWCw"
      },
      "source": [
        "(30 points). Write a python program to **clean the text data** you collected above and save the data in a new column in the csv file. The data cleaning steps include:\n",
        "\n",
        "(1) Remove noise, such as special characters and punctuations.\n",
        "\n",
        "(2) Remove numbers.\n",
        "\n",
        "(3) Remove stopwords by using the [stopwords list](https://gist.github.com/sebleier/554280).\n",
        "\n",
        "(4) Lowercase all texts\n",
        "\n",
        "(5) Stemming. \n",
        "\n",
        "(6) Lemmatization."
      ]
    },
    {
      "cell_type": "code",
      "execution_count": null,
      "metadata": {
        "colab": {
          "base_uri": "https://localhost:8080/"
        },
        "id": "7WH5cQuA68R0",
        "outputId": "22ce51e9-05af-4325-d3fb-8e8336388c9a"
      },
      "outputs": [
        {
          "output_type": "stream",
          "name": "stderr",
          "text": [
            "[nltk_data] Downloading package stopwords to /root/nltk_data...\n",
            "[nltk_data]   Package stopwords is already up-to-date!\n",
            "[nltk_data] Downloading package wordnet to /root/nltk_data...\n",
            "[nltk_data]   Package wordnet is already up-to-date!\n",
            "[nltk_data] Downloading package omw-1.4 to /root/nltk_data...\n",
            "[nltk_data]   Package omw-1.4 is already up-to-date!\n"
          ]
        }
      ],
      "source": [
        "import string\n",
        "import nltk\n",
        "from nltk.corpus import stopwords\n",
        "nltk.download(\"stopwords\")\n",
        "nltk.download('wordnet')\n",
        "nltk.download('omw-1.4')\n",
        "stopWordsCache = stopwords.words(\"english\")\n",
        "from nltk.stem import WordNetLemmatizer\n",
        "from nltk.stem import PorterStemmer\n",
        "from nltk.tokenize import word_tokenize\n",
        "lemmatizer = WordNetLemmatizer()\n",
        "stemmer = PorterStemmer()"
      ]
    },
    {
      "cell_type": "code",
      "execution_count": null,
      "metadata": {
        "id": "vATjQNTY8buA"
      },
      "outputs": [],
      "source": [
        "# Write your code here\n",
        "def remove_noise(s):\n",
        "  result =  s.translate(str.maketrans('', '', string.punctuation))\n",
        "  return result.replace(\"\\n\", \"\")\n",
        "\n",
        "def remove_numbers(s):\n",
        "  return ''.join([i for i in s if not i.isdigit()])\n",
        "\n",
        "def remove_stopWords(s):\n",
        "  return ' '.join([word for word in s.split() if word not in stopWordsCache])\n",
        "\n",
        "def lowercase_words(s):\n",
        "  return s.lower()\n",
        "\n",
        "def stemming(s):\n",
        "  return [stemmer.stem(word) for word in s.split()]\n",
        "\n",
        "def lemmatization(tokens):\n",
        "  return [lemmatizer.lemmatize(word) for word in tokens]\n",
        "\n",
        "df['cleaned_data'] = df['reviews'].apply(remove_noise).apply(remove_numbers).apply(remove_stopWords).apply(lowercase_words).apply(stemming).apply(lemmatization)\n",
        "df.to_csv('cleaned_data.csv', index=False)  "
      ]
    },
    {
      "cell_type": "markdown",
      "metadata": {
        "id": "E5mmYIfN8eYV"
      },
      "source": [
        "# **Question 3**"
      ]
    },
    {
      "cell_type": "markdown",
      "metadata": {
        "id": "hsi2y4z88ngX"
      },
      "source": [
        "(30 points). Write a python program to conduct **syntax and structure analysis** of the clean text you just saved above. The syntax and structure analysis includes: \n",
        "\n",
        "(1) Parts of Speech (POS) Tagging: Tag Parts of Speech of each word in the text, and calculate the total number of N(oun), V(erb), Adj(ective), Adv(erb), respectively.\n",
        "\n",
        "(2) Constituency Parsing and Dependency Parsing: print out the constituency parsing trees and dependency parsing trees of all the sentences. Using one sentence as an example to explain your understanding about the constituency parsing tree and dependency parsing tree.\n",
        "\n",
        "(3) Named Entity Recognition: Extract all the entities such as person names, organizations, locations, product names, and date from the clean texts, calculate the count of each entity."
      ]
    },
    {
      "cell_type": "code",
      "execution_count": null,
      "metadata": {
        "colab": {
          "base_uri": "https://localhost:8080/"
        },
        "id": "QQKnPjPDHJHr",
        "outputId": "b3060360-0f7c-41b1-b1f8-a10f8c5144dd"
      },
      "outputs": [
        {
          "output_type": "stream",
          "name": "stderr",
          "text": [
            "[nltk_data] Downloading package averaged_perceptron_tagger to\n",
            "[nltk_data]     /root/nltk_data...\n",
            "[nltk_data]   Package averaged_perceptron_tagger is already up-to-\n",
            "[nltk_data]       date!\n"
          ]
        },
        {
          "output_type": "stream",
          "name": "stdout",
          "text": [
            "-- Total numbe of POS --\n",
            "{'nouns': 8223, 'verbs': 1672, 'adjectives': 3139, 'adverbs': 654}\n"
          ]
        }
      ],
      "source": [
        "# Write your code here\n",
        "nltk.download('averaged_perceptron_tagger')\n",
        "\n",
        "#1. Parts of Speech\n",
        "df['pos_tag'] = df['cleaned_data'].apply(lambda x: nltk.pos_tag(x))\n",
        "\n",
        "count_dict = {\n",
        "    'nouns' : 0,\n",
        "    'verbs' : 0,\n",
        "    'adjectives' : 0,\n",
        "    'adverbs' : 0\n",
        "}\n",
        "\n",
        "def calculate_pos_tags(tags):\n",
        "  for tag in tags:\n",
        "    words = tag[0]\n",
        "    pos = tag[1]\n",
        "\n",
        "    if(pos.startswith(\"N\")):\n",
        "      count_dict['nouns'] += 1\n",
        "    if(pos.startswith(\"V\")):\n",
        "      count_dict['verbs'] += 1\n",
        "    if(pos.startswith(\"J\")):\n",
        "      count_dict['adjectives'] += 1\n",
        "    if(pos.startswith(\"RB\")):\n",
        "      count_dict['adverbs'] += 1\n",
        "\n",
        "df['pos_tag'].apply(calculate_pos_tags)\n",
        "print(\"-- Total numbe of POS --\")\n",
        "print(count_dict)"
      ]
    },
    {
      "cell_type": "code",
      "execution_count": null,
      "metadata": {
        "colab": {
          "base_uri": "https://localhost:8080/",
          "height": 1000
        },
        "id": "hokTG0xpOTQc",
        "outputId": "8e11050c-69ad-4c19-d855-163647857bda"
      },
      "outputs": [
        {
          "output_type": "stream",
          "name": "stdout",
          "text": [
            "Looking in indexes: https://pypi.org/simple, https://us-python.pkg.dev/colab-wheels/public/simple/\n",
            "Requirement already satisfied: benepar in /usr/local/lib/python3.7/dist-packages (0.2.0)\n",
            "Requirement already satisfied: protobuf in /usr/local/lib/python3.7/dist-packages (from benepar) (3.17.3)\n",
            "Requirement already satisfied: nltk>=3.2 in /usr/local/lib/python3.7/dist-packages (from benepar) (3.7)\n",
            "Requirement already satisfied: sentencepiece>=0.1.91 in /usr/local/lib/python3.7/dist-packages (from benepar) (0.1.97)\n",
            "Requirement already satisfied: transformers[tokenizers,torch]>=4.2.2 in /usr/local/lib/python3.7/dist-packages (from benepar) (4.22.2)\n",
            "Requirement already satisfied: torch>=1.6.0 in /usr/local/lib/python3.7/dist-packages (from benepar) (1.12.1+cu113)\n",
            "Requirement already satisfied: spacy>=2.0.9 in /usr/local/lib/python3.7/dist-packages (from benepar) (3.4.1)\n",
            "Requirement already satisfied: torch-struct>=0.5 in /usr/local/lib/python3.7/dist-packages (from benepar) (0.5)\n",
            "Requirement already satisfied: tokenizers>=0.9.4 in /usr/local/lib/python3.7/dist-packages (from benepar) (0.12.1)\n",
            "Requirement already satisfied: click in /usr/local/lib/python3.7/dist-packages (from nltk>=3.2->benepar) (7.1.2)\n",
            "Requirement already satisfied: tqdm in /usr/local/lib/python3.7/dist-packages (from nltk>=3.2->benepar) (4.64.1)\n",
            "Requirement already satisfied: regex>=2021.8.3 in /usr/local/lib/python3.7/dist-packages (from nltk>=3.2->benepar) (2022.6.2)\n",
            "Requirement already satisfied: joblib in /usr/local/lib/python3.7/dist-packages (from nltk>=3.2->benepar) (1.2.0)\n",
            "Requirement already satisfied: catalogue<2.1.0,>=2.0.6 in /usr/local/lib/python3.7/dist-packages (from spacy>=2.0.9->benepar) (2.0.8)\n",
            "Requirement already satisfied: typing-extensions<4.2.0,>=3.7.4 in /usr/local/lib/python3.7/dist-packages (from spacy>=2.0.9->benepar) (4.1.1)\n",
            "Requirement already satisfied: setuptools in /usr/local/lib/python3.7/dist-packages (from spacy>=2.0.9->benepar) (57.4.0)\n",
            "Requirement already satisfied: pathy>=0.3.5 in /usr/local/lib/python3.7/dist-packages (from spacy>=2.0.9->benepar) (0.6.2)\n",
            "Requirement already satisfied: spacy-loggers<2.0.0,>=1.0.0 in /usr/local/lib/python3.7/dist-packages (from spacy>=2.0.9->benepar) (1.0.3)\n",
            "Requirement already satisfied: thinc<8.2.0,>=8.1.0 in /usr/local/lib/python3.7/dist-packages (from spacy>=2.0.9->benepar) (8.1.2)\n",
            "Requirement already satisfied: preshed<3.1.0,>=3.0.2 in /usr/local/lib/python3.7/dist-packages (from spacy>=2.0.9->benepar) (3.0.7)\n",
            "Requirement already satisfied: murmurhash<1.1.0,>=0.28.0 in /usr/local/lib/python3.7/dist-packages (from spacy>=2.0.9->benepar) (1.0.8)\n",
            "Requirement already satisfied: cymem<2.1.0,>=2.0.2 in /usr/local/lib/python3.7/dist-packages (from spacy>=2.0.9->benepar) (2.0.6)\n",
            "Requirement already satisfied: langcodes<4.0.0,>=3.2.0 in /usr/local/lib/python3.7/dist-packages (from spacy>=2.0.9->benepar) (3.3.0)\n",
            "Requirement already satisfied: jinja2 in /usr/local/lib/python3.7/dist-packages (from spacy>=2.0.9->benepar) (2.11.3)\n",
            "Requirement already satisfied: packaging>=20.0 in /usr/local/lib/python3.7/dist-packages (from spacy>=2.0.9->benepar) (21.3)\n",
            "Requirement already satisfied: typer<0.5.0,>=0.3.0 in /usr/local/lib/python3.7/dist-packages (from spacy>=2.0.9->benepar) (0.4.2)\n",
            "Requirement already satisfied: spacy-legacy<3.1.0,>=3.0.9 in /usr/local/lib/python3.7/dist-packages (from spacy>=2.0.9->benepar) (3.0.10)\n",
            "Requirement already satisfied: numpy>=1.15.0 in /usr/local/lib/python3.7/dist-packages (from spacy>=2.0.9->benepar) (1.21.6)\n",
            "Requirement already satisfied: srsly<3.0.0,>=2.4.3 in /usr/local/lib/python3.7/dist-packages (from spacy>=2.0.9->benepar) (2.4.4)\n",
            "Requirement already satisfied: requests<3.0.0,>=2.13.0 in /usr/local/lib/python3.7/dist-packages (from spacy>=2.0.9->benepar) (2.23.0)\n",
            "Requirement already satisfied: wasabi<1.1.0,>=0.9.1 in /usr/local/lib/python3.7/dist-packages (from spacy>=2.0.9->benepar) (0.10.1)\n",
            "Requirement already satisfied: pydantic!=1.8,!=1.8.1,<1.10.0,>=1.7.4 in /usr/local/lib/python3.7/dist-packages (from spacy>=2.0.9->benepar) (1.9.2)\n",
            "Requirement already satisfied: zipp>=0.5 in /usr/local/lib/python3.7/dist-packages (from catalogue<2.1.0,>=2.0.6->spacy>=2.0.9->benepar) (3.8.1)\n",
            "Requirement already satisfied: pyparsing!=3.0.5,>=2.0.2 in /usr/local/lib/python3.7/dist-packages (from packaging>=20.0->spacy>=2.0.9->benepar) (3.0.9)\n",
            "Requirement already satisfied: smart-open<6.0.0,>=5.2.1 in /usr/local/lib/python3.7/dist-packages (from pathy>=0.3.5->spacy>=2.0.9->benepar) (5.2.1)\n",
            "Requirement already satisfied: certifi>=2017.4.17 in /usr/local/lib/python3.7/dist-packages (from requests<3.0.0,>=2.13.0->spacy>=2.0.9->benepar) (2022.9.24)\n",
            "Requirement already satisfied: urllib3!=1.25.0,!=1.25.1,<1.26,>=1.21.1 in /usr/local/lib/python3.7/dist-packages (from requests<3.0.0,>=2.13.0->spacy>=2.0.9->benepar) (1.24.3)\n",
            "Requirement already satisfied: chardet<4,>=3.0.2 in /usr/local/lib/python3.7/dist-packages (from requests<3.0.0,>=2.13.0->spacy>=2.0.9->benepar) (3.0.4)\n",
            "Requirement already satisfied: idna<3,>=2.5 in /usr/local/lib/python3.7/dist-packages (from requests<3.0.0,>=2.13.0->spacy>=2.0.9->benepar) (2.10)\n",
            "Requirement already satisfied: confection<1.0.0,>=0.0.1 in /usr/local/lib/python3.7/dist-packages (from thinc<8.2.0,>=8.1.0->spacy>=2.0.9->benepar) (0.0.2)\n",
            "Requirement already satisfied: blis<0.8.0,>=0.7.8 in /usr/local/lib/python3.7/dist-packages (from thinc<8.2.0,>=8.1.0->spacy>=2.0.9->benepar) (0.7.8)\n",
            "Requirement already satisfied: pyyaml>=5.1 in /usr/local/lib/python3.7/dist-packages (from transformers[tokenizers,torch]>=4.2.2->benepar) (6.0)\n",
            "Requirement already satisfied: importlib-metadata in /usr/local/lib/python3.7/dist-packages (from transformers[tokenizers,torch]>=4.2.2->benepar) (5.0.0)\n",
            "Requirement already satisfied: huggingface-hub<1.0,>=0.9.0 in /usr/local/lib/python3.7/dist-packages (from transformers[tokenizers,torch]>=4.2.2->benepar) (0.10.0)\n",
            "Requirement already satisfied: filelock in /usr/local/lib/python3.7/dist-packages (from transformers[tokenizers,torch]>=4.2.2->benepar) (3.8.0)\n",
            "Requirement already satisfied: MarkupSafe>=0.23 in /usr/local/lib/python3.7/dist-packages (from jinja2->spacy>=2.0.9->benepar) (2.0.1)\n",
            "Requirement already satisfied: six>=1.9 in /usr/local/lib/python3.7/dist-packages (from protobuf->benepar) (1.15.0)\n"
          ]
        },
        {
          "output_type": "stream",
          "name": "stderr",
          "text": [
            "[nltk_data] Downloading package benepar_en3 to /root/nltk_data...\n",
            "[nltk_data]   Package benepar_en3 is already up-to-date!\n",
            "You're using a T5TokenizerFast tokenizer. Please note that with a fast tokenizer, using the `__call__` method is faster than using a method to encode the text followed by a call to the `pad` method to get a padded encoding.\n",
            "/usr/local/lib/python3.7/dist-packages/torch/distributions/distribution.py:46: UserWarning: <class 'torch_struct.distributions.TreeCRF'> does not define `arg_constraints`. Please set `arg_constraints = {}` or initialize the distribution with `validate_args=False` to turn off validation.\n",
            "  'with `validate_args=False` to turn off validation.')\n"
          ]
        },
        {
          "output_type": "execute_result",
          "data": {
            "text/plain": [
              "                 name                                            reviews  \\\n",
              "0              pk2013  \\nBeen almost 10 months I have been using the ...   \n",
              "1                  PR  \\nThis is my first iPhone. After being an Andr...   \n",
              "2     Lalhruaitluanga  \\nIf u read the review you will know that ther...   \n",
              "3          BJ Mansata  \\nAn excellent response received from AMAZON, ...   \n",
              "4  Abhishek Mukherjee  \\nFrom the last 3 months, i was waiting for th...   \n",
              "\n",
              "                                        cleaned_data  \\\n",
              "0  [been, almost, month, i, use, iphon, gb, appl,...   \n",
              "1  [thi, first, iphon, after, android, enthusiast...   \n",
              "2  [if, u, read, review, know, mani, bad, comment...   \n",
              "3  [an, excel, respons, receiv, amazon, if, i, sh...   \n",
              "4  [from, last, month, wait, best, possibl, phone...   \n",
              "\n",
              "                                             pos_tag  \\\n",
              "0  [(been, VBN), (almost, RB), (month, NN), (i, N...   \n",
              "1  [(thi, NN), (first, RB), (iphon, RB), (after, ...   \n",
              "2  [(if, IN), (u, JJ), (read, VBP), (review, NN),...   \n",
              "3  [(an, DT), (excel, JJ), (respons, NNS), (recei...   \n",
              "4  [(from, IN), (last, JJ), (month, NN), (wait, V...   \n",
              "\n",
              "                                   constituency_tree  \n",
              "0  (S (NP (NP (DT The) (NN time)) (PP (IN for) (N...  \n",
              "1  (S (NP (NP (DT The) (NN time)) (PP (IN for) (N...  \n",
              "2  (S (NP (NP (DT The) (NN time)) (PP (IN for) (N...  \n",
              "3  (S (NP (NP (DT The) (NN time)) (PP (IN for) (N...  \n",
              "4  (S (NP (NP (DT The) (NN time)) (PP (IN for) (N...  "
            ],
            "text/html": [
              "\n",
              "  <div id=\"df-ae611c2c-4ed5-4c17-b050-daa8dfbfdbdb\">\n",
              "    <div class=\"colab-df-container\">\n",
              "      <div>\n",
              "<style scoped>\n",
              "    .dataframe tbody tr th:only-of-type {\n",
              "        vertical-align: middle;\n",
              "    }\n",
              "\n",
              "    .dataframe tbody tr th {\n",
              "        vertical-align: top;\n",
              "    }\n",
              "\n",
              "    .dataframe thead th {\n",
              "        text-align: right;\n",
              "    }\n",
              "</style>\n",
              "<table border=\"1\" class=\"dataframe\">\n",
              "  <thead>\n",
              "    <tr style=\"text-align: right;\">\n",
              "      <th></th>\n",
              "      <th>name</th>\n",
              "      <th>reviews</th>\n",
              "      <th>cleaned_data</th>\n",
              "      <th>pos_tag</th>\n",
              "      <th>constituency_tree</th>\n",
              "    </tr>\n",
              "  </thead>\n",
              "  <tbody>\n",
              "    <tr>\n",
              "      <th>0</th>\n",
              "      <td>pk2013</td>\n",
              "      <td>\\nBeen almost 10 months I have been using the ...</td>\n",
              "      <td>[been, almost, month, i, use, iphon, gb, appl,...</td>\n",
              "      <td>[(been, VBN), (almost, RB), (month, NN), (i, N...</td>\n",
              "      <td>(S (NP (NP (DT The) (NN time)) (PP (IN for) (N...</td>\n",
              "    </tr>\n",
              "    <tr>\n",
              "      <th>1</th>\n",
              "      <td>PR</td>\n",
              "      <td>\\nThis is my first iPhone. After being an Andr...</td>\n",
              "      <td>[thi, first, iphon, after, android, enthusiast...</td>\n",
              "      <td>[(thi, NN), (first, RB), (iphon, RB), (after, ...</td>\n",
              "      <td>(S (NP (NP (DT The) (NN time)) (PP (IN for) (N...</td>\n",
              "    </tr>\n",
              "    <tr>\n",
              "      <th>2</th>\n",
              "      <td>Lalhruaitluanga</td>\n",
              "      <td>\\nIf u read the review you will know that ther...</td>\n",
              "      <td>[if, u, read, review, know, mani, bad, comment...</td>\n",
              "      <td>[(if, IN), (u, JJ), (read, VBP), (review, NN),...</td>\n",
              "      <td>(S (NP (NP (DT The) (NN time)) (PP (IN for) (N...</td>\n",
              "    </tr>\n",
              "    <tr>\n",
              "      <th>3</th>\n",
              "      <td>BJ Mansata</td>\n",
              "      <td>\\nAn excellent response received from AMAZON, ...</td>\n",
              "      <td>[an, excel, respons, receiv, amazon, if, i, sh...</td>\n",
              "      <td>[(an, DT), (excel, JJ), (respons, NNS), (recei...</td>\n",
              "      <td>(S (NP (NP (DT The) (NN time)) (PP (IN for) (N...</td>\n",
              "    </tr>\n",
              "    <tr>\n",
              "      <th>4</th>\n",
              "      <td>Abhishek Mukherjee</td>\n",
              "      <td>\\nFrom the last 3 months, i was waiting for th...</td>\n",
              "      <td>[from, last, month, wait, best, possibl, phone...</td>\n",
              "      <td>[(from, IN), (last, JJ), (month, NN), (wait, V...</td>\n",
              "      <td>(S (NP (NP (DT The) (NN time)) (PP (IN for) (N...</td>\n",
              "    </tr>\n",
              "  </tbody>\n",
              "</table>\n",
              "</div>\n",
              "      <button class=\"colab-df-convert\" onclick=\"convertToInteractive('df-ae611c2c-4ed5-4c17-b050-daa8dfbfdbdb')\"\n",
              "              title=\"Convert this dataframe to an interactive table.\"\n",
              "              style=\"display:none;\">\n",
              "        \n",
              "  <svg xmlns=\"http://www.w3.org/2000/svg\" height=\"24px\"viewBox=\"0 0 24 24\"\n",
              "       width=\"24px\">\n",
              "    <path d=\"M0 0h24v24H0V0z\" fill=\"none\"/>\n",
              "    <path d=\"M18.56 5.44l.94 2.06.94-2.06 2.06-.94-2.06-.94-.94-2.06-.94 2.06-2.06.94zm-11 1L8.5 8.5l.94-2.06 2.06-.94-2.06-.94L8.5 2.5l-.94 2.06-2.06.94zm10 10l.94 2.06.94-2.06 2.06-.94-2.06-.94-.94-2.06-.94 2.06-2.06.94z\"/><path d=\"M17.41 7.96l-1.37-1.37c-.4-.4-.92-.59-1.43-.59-.52 0-1.04.2-1.43.59L10.3 9.45l-7.72 7.72c-.78.78-.78 2.05 0 2.83L4 21.41c.39.39.9.59 1.41.59.51 0 1.02-.2 1.41-.59l7.78-7.78 2.81-2.81c.8-.78.8-2.07 0-2.86zM5.41 20L4 18.59l7.72-7.72 1.47 1.35L5.41 20z\"/>\n",
              "  </svg>\n",
              "      </button>\n",
              "      \n",
              "  <style>\n",
              "    .colab-df-container {\n",
              "      display:flex;\n",
              "      flex-wrap:wrap;\n",
              "      gap: 12px;\n",
              "    }\n",
              "\n",
              "    .colab-df-convert {\n",
              "      background-color: #E8F0FE;\n",
              "      border: none;\n",
              "      border-radius: 50%;\n",
              "      cursor: pointer;\n",
              "      display: none;\n",
              "      fill: #1967D2;\n",
              "      height: 32px;\n",
              "      padding: 0 0 0 0;\n",
              "      width: 32px;\n",
              "    }\n",
              "\n",
              "    .colab-df-convert:hover {\n",
              "      background-color: #E2EBFA;\n",
              "      box-shadow: 0px 1px 2px rgba(60, 64, 67, 0.3), 0px 1px 3px 1px rgba(60, 64, 67, 0.15);\n",
              "      fill: #174EA6;\n",
              "    }\n",
              "\n",
              "    [theme=dark] .colab-df-convert {\n",
              "      background-color: #3B4455;\n",
              "      fill: #D2E3FC;\n",
              "    }\n",
              "\n",
              "    [theme=dark] .colab-df-convert:hover {\n",
              "      background-color: #434B5C;\n",
              "      box-shadow: 0px 1px 3px 1px rgba(0, 0, 0, 0.15);\n",
              "      filter: drop-shadow(0px 1px 2px rgba(0, 0, 0, 0.3));\n",
              "      fill: #FFFFFF;\n",
              "    }\n",
              "  </style>\n",
              "\n",
              "      <script>\n",
              "        const buttonEl =\n",
              "          document.querySelector('#df-ae611c2c-4ed5-4c17-b050-daa8dfbfdbdb button.colab-df-convert');\n",
              "        buttonEl.style.display =\n",
              "          google.colab.kernel.accessAllowed ? 'block' : 'none';\n",
              "\n",
              "        async function convertToInteractive(key) {\n",
              "          const element = document.querySelector('#df-ae611c2c-4ed5-4c17-b050-daa8dfbfdbdb');\n",
              "          const dataTable =\n",
              "            await google.colab.kernel.invokeFunction('convertToInteractive',\n",
              "                                                     [key], {});\n",
              "          if (!dataTable) return;\n",
              "\n",
              "          const docLinkHtml = 'Like what you see? Visit the ' +\n",
              "            '<a target=\"_blank\" href=https://colab.research.google.com/notebooks/data_table.ipynb>data table notebook</a>'\n",
              "            + ' to learn more about interactive tables.';\n",
              "          element.innerHTML = '';\n",
              "          dataTable['output_type'] = 'display_data';\n",
              "          await google.colab.output.renderOutput(dataTable, element);\n",
              "          const docLink = document.createElement('div');\n",
              "          docLink.innerHTML = docLinkHtml;\n",
              "          element.appendChild(docLink);\n",
              "        }\n",
              "      </script>\n",
              "    </div>\n",
              "  </div>\n",
              "  "
            ]
          },
          "metadata": {},
          "execution_count": 40
        }
      ],
      "source": [
        "#2. Constituency Parsing and Dependency parsing\n",
        "!pip install benepar\n",
        "import benepar, spacy\n",
        "import en_core_web_sm\n",
        "benepar.download('benepar_en3')\n",
        "nlp = en_core_web_sm.load()\n",
        "nlp.add_pipe('benepar', config={'model': 'benepar_en3'})\n",
        "\n",
        "def constituency_parser(s):\n",
        "  doc = nlp('The time for action is now. It is never too late to do something.')\n",
        "  sent = list(doc.sents)[0]\n",
        "  return sent._.parse_string\n",
        "\n",
        "df['constituency_tree'] = df['cleaned_data'].apply(lambda x: ' '.join(x)).apply(constituency_parser)\n",
        "df.head()"
      ]
    },
    {
      "cell_type": "code",
      "execution_count": null,
      "metadata": {
        "colab": {
          "base_uri": "https://localhost:8080/",
          "height": 387
        },
        "id": "ERXvGHGSTs1s",
        "outputId": "79db4528-6aa5-44ec-9cad-6fdee2fe9c91"
      },
      "outputs": [
        {
          "output_type": "stream",
          "name": "stderr",
          "text": [
            "/usr/local/lib/python3.7/dist-packages/torch/distributions/distribution.py:46: UserWarning: <class 'torch_struct.distributions.TreeCRF'> does not define `arg_constraints`. Please set `arg_constraints = {}` or initialize the distribution with `validate_args=False` to turn off validation.\n",
            "  'with `validate_args=False` to turn off validation.')\n"
          ]
        },
        {
          "output_type": "execute_result",
          "data": {
            "text/plain": [
              "                 name                                            reviews  \\\n",
              "0              pk2013  \\nBeen almost 10 months I have been using the ...   \n",
              "1                  PR  \\nThis is my first iPhone. After being an Andr...   \n",
              "2     Lalhruaitluanga  \\nIf u read the review you will know that ther...   \n",
              "3          BJ Mansata  \\nAn excellent response received from AMAZON, ...   \n",
              "4  Abhishek Mukherjee  \\nFrom the last 3 months, i was waiting for th...   \n",
              "\n",
              "                                        cleaned_data  \\\n",
              "0  [been, almost, month, i, use, iphon, gb, appl,...   \n",
              "1  [thi, first, iphon, after, android, enthusiast...   \n",
              "2  [if, u, read, review, know, mani, bad, comment...   \n",
              "3  [an, excel, respons, receiv, amazon, if, i, sh...   \n",
              "4  [from, last, month, wait, best, possibl, phone...   \n",
              "\n",
              "                                             pos_tag  \\\n",
              "0  [(been, VBN), (almost, RB), (month, NN), (i, N...   \n",
              "1  [(thi, NN), (first, RB), (iphon, RB), (after, ...   \n",
              "2  [(if, IN), (u, JJ), (read, VBP), (review, NN),...   \n",
              "3  [(an, DT), (excel, JJ), (respons, NNS), (recei...   \n",
              "4  [(from, IN), (last, JJ), (month, NN), (wait, V...   \n",
              "\n",
              "                                   constituency_tree  \\\n",
              "0  (S (NP (NP (DT The) (NN time)) (PP (IN for) (N...   \n",
              "1  (S (NP (NP (DT The) (NN time)) (PP (IN for) (N...   \n",
              "2  (S (NP (NP (DT The) (NN time)) (PP (IN for) (N...   \n",
              "3  (S (NP (NP (DT The) (NN time)) (PP (IN for) (N...   \n",
              "4  (S (NP (NP (DT The) (NN time)) (PP (IN for) (N...   \n",
              "\n",
              "                                     dependency_tree  \n",
              "0  {been: {'relation': 'advcl', 'head': 'use', 'c...  \n",
              "1  {thi: {'relation': 'ROOT', 'head': 'thi', 'chi...  \n",
              "2  {if: {'relation': 'mark', 'head': 'read', 'chi...  \n",
              "3  {an: {'relation': 'det', 'head': 'amazon', 'ch...  \n",
              "4  {from: {'relation': 'prep', 'head': 'wait', 'c...  "
            ],
            "text/html": [
              "\n",
              "  <div id=\"df-ccda8835-d1a8-416e-9876-2a5176b7fe4c\">\n",
              "    <div class=\"colab-df-container\">\n",
              "      <div>\n",
              "<style scoped>\n",
              "    .dataframe tbody tr th:only-of-type {\n",
              "        vertical-align: middle;\n",
              "    }\n",
              "\n",
              "    .dataframe tbody tr th {\n",
              "        vertical-align: top;\n",
              "    }\n",
              "\n",
              "    .dataframe thead th {\n",
              "        text-align: right;\n",
              "    }\n",
              "</style>\n",
              "<table border=\"1\" class=\"dataframe\">\n",
              "  <thead>\n",
              "    <tr style=\"text-align: right;\">\n",
              "      <th></th>\n",
              "      <th>name</th>\n",
              "      <th>reviews</th>\n",
              "      <th>cleaned_data</th>\n",
              "      <th>pos_tag</th>\n",
              "      <th>constituency_tree</th>\n",
              "      <th>dependency_tree</th>\n",
              "    </tr>\n",
              "  </thead>\n",
              "  <tbody>\n",
              "    <tr>\n",
              "      <th>0</th>\n",
              "      <td>pk2013</td>\n",
              "      <td>\\nBeen almost 10 months I have been using the ...</td>\n",
              "      <td>[been, almost, month, i, use, iphon, gb, appl,...</td>\n",
              "      <td>[(been, VBN), (almost, RB), (month, NN), (i, N...</td>\n",
              "      <td>(S (NP (NP (DT The) (NN time)) (PP (IN for) (N...</td>\n",
              "      <td>{been: {'relation': 'advcl', 'head': 'use', 'c...</td>\n",
              "    </tr>\n",
              "    <tr>\n",
              "      <th>1</th>\n",
              "      <td>PR</td>\n",
              "      <td>\\nThis is my first iPhone. After being an Andr...</td>\n",
              "      <td>[thi, first, iphon, after, android, enthusiast...</td>\n",
              "      <td>[(thi, NN), (first, RB), (iphon, RB), (after, ...</td>\n",
              "      <td>(S (NP (NP (DT The) (NN time)) (PP (IN for) (N...</td>\n",
              "      <td>{thi: {'relation': 'ROOT', 'head': 'thi', 'chi...</td>\n",
              "    </tr>\n",
              "    <tr>\n",
              "      <th>2</th>\n",
              "      <td>Lalhruaitluanga</td>\n",
              "      <td>\\nIf u read the review you will know that ther...</td>\n",
              "      <td>[if, u, read, review, know, mani, bad, comment...</td>\n",
              "      <td>[(if, IN), (u, JJ), (read, VBP), (review, NN),...</td>\n",
              "      <td>(S (NP (NP (DT The) (NN time)) (PP (IN for) (N...</td>\n",
              "      <td>{if: {'relation': 'mark', 'head': 'read', 'chi...</td>\n",
              "    </tr>\n",
              "    <tr>\n",
              "      <th>3</th>\n",
              "      <td>BJ Mansata</td>\n",
              "      <td>\\nAn excellent response received from AMAZON, ...</td>\n",
              "      <td>[an, excel, respons, receiv, amazon, if, i, sh...</td>\n",
              "      <td>[(an, DT), (excel, JJ), (respons, NNS), (recei...</td>\n",
              "      <td>(S (NP (NP (DT The) (NN time)) (PP (IN for) (N...</td>\n",
              "      <td>{an: {'relation': 'det', 'head': 'amazon', 'ch...</td>\n",
              "    </tr>\n",
              "    <tr>\n",
              "      <th>4</th>\n",
              "      <td>Abhishek Mukherjee</td>\n",
              "      <td>\\nFrom the last 3 months, i was waiting for th...</td>\n",
              "      <td>[from, last, month, wait, best, possibl, phone...</td>\n",
              "      <td>[(from, IN), (last, JJ), (month, NN), (wait, V...</td>\n",
              "      <td>(S (NP (NP (DT The) (NN time)) (PP (IN for) (N...</td>\n",
              "      <td>{from: {'relation': 'prep', 'head': 'wait', 'c...</td>\n",
              "    </tr>\n",
              "  </tbody>\n",
              "</table>\n",
              "</div>\n",
              "      <button class=\"colab-df-convert\" onclick=\"convertToInteractive('df-ccda8835-d1a8-416e-9876-2a5176b7fe4c')\"\n",
              "              title=\"Convert this dataframe to an interactive table.\"\n",
              "              style=\"display:none;\">\n",
              "        \n",
              "  <svg xmlns=\"http://www.w3.org/2000/svg\" height=\"24px\"viewBox=\"0 0 24 24\"\n",
              "       width=\"24px\">\n",
              "    <path d=\"M0 0h24v24H0V0z\" fill=\"none\"/>\n",
              "    <path d=\"M18.56 5.44l.94 2.06.94-2.06 2.06-.94-2.06-.94-.94-2.06-.94 2.06-2.06.94zm-11 1L8.5 8.5l.94-2.06 2.06-.94-2.06-.94L8.5 2.5l-.94 2.06-2.06.94zm10 10l.94 2.06.94-2.06 2.06-.94-2.06-.94-.94-2.06-.94 2.06-2.06.94z\"/><path d=\"M17.41 7.96l-1.37-1.37c-.4-.4-.92-.59-1.43-.59-.52 0-1.04.2-1.43.59L10.3 9.45l-7.72 7.72c-.78.78-.78 2.05 0 2.83L4 21.41c.39.39.9.59 1.41.59.51 0 1.02-.2 1.41-.59l7.78-7.78 2.81-2.81c.8-.78.8-2.07 0-2.86zM5.41 20L4 18.59l7.72-7.72 1.47 1.35L5.41 20z\"/>\n",
              "  </svg>\n",
              "      </button>\n",
              "      \n",
              "  <style>\n",
              "    .colab-df-container {\n",
              "      display:flex;\n",
              "      flex-wrap:wrap;\n",
              "      gap: 12px;\n",
              "    }\n",
              "\n",
              "    .colab-df-convert {\n",
              "      background-color: #E8F0FE;\n",
              "      border: none;\n",
              "      border-radius: 50%;\n",
              "      cursor: pointer;\n",
              "      display: none;\n",
              "      fill: #1967D2;\n",
              "      height: 32px;\n",
              "      padding: 0 0 0 0;\n",
              "      width: 32px;\n",
              "    }\n",
              "\n",
              "    .colab-df-convert:hover {\n",
              "      background-color: #E2EBFA;\n",
              "      box-shadow: 0px 1px 2px rgba(60, 64, 67, 0.3), 0px 1px 3px 1px rgba(60, 64, 67, 0.15);\n",
              "      fill: #174EA6;\n",
              "    }\n",
              "\n",
              "    [theme=dark] .colab-df-convert {\n",
              "      background-color: #3B4455;\n",
              "      fill: #D2E3FC;\n",
              "    }\n",
              "\n",
              "    [theme=dark] .colab-df-convert:hover {\n",
              "      background-color: #434B5C;\n",
              "      box-shadow: 0px 1px 3px 1px rgba(0, 0, 0, 0.15);\n",
              "      filter: drop-shadow(0px 1px 2px rgba(0, 0, 0, 0.3));\n",
              "      fill: #FFFFFF;\n",
              "    }\n",
              "  </style>\n",
              "\n",
              "      <script>\n",
              "        const buttonEl =\n",
              "          document.querySelector('#df-ccda8835-d1a8-416e-9876-2a5176b7fe4c button.colab-df-convert');\n",
              "        buttonEl.style.display =\n",
              "          google.colab.kernel.accessAllowed ? 'block' : 'none';\n",
              "\n",
              "        async function convertToInteractive(key) {\n",
              "          const element = document.querySelector('#df-ccda8835-d1a8-416e-9876-2a5176b7fe4c');\n",
              "          const dataTable =\n",
              "            await google.colab.kernel.invokeFunction('convertToInteractive',\n",
              "                                                     [key], {});\n",
              "          if (!dataTable) return;\n",
              "\n",
              "          const docLinkHtml = 'Like what you see? Visit the ' +\n",
              "            '<a target=\"_blank\" href=https://colab.research.google.com/notebooks/data_table.ipynb>data table notebook</a>'\n",
              "            + ' to learn more about interactive tables.';\n",
              "          element.innerHTML = '';\n",
              "          dataTable['output_type'] = 'display_data';\n",
              "          await google.colab.output.renderOutput(dataTable, element);\n",
              "          const docLink = document.createElement('div');\n",
              "          docLink.innerHTML = docLinkHtml;\n",
              "          element.appendChild(docLink);\n",
              "        }\n",
              "      </script>\n",
              "    </div>\n",
              "  </div>\n",
              "  "
            ]
          },
          "metadata": {},
          "execution_count": 41
        }
      ],
      "source": [
        "\n",
        "def dependency_parser(s):\n",
        "  doc = nlp(s)\n",
        "  tree_dict = {}\n",
        "  for token in doc:\n",
        "    tree_dict[token] = {\n",
        "        'relation' : str(token.dep_),\n",
        "        'head' : str(token.head.text),\n",
        "        'children' : str([child for child in token.children])\n",
        "    }\n",
        "  return tree_dict\n",
        "\n",
        "df['dependency_tree'] = df['cleaned_data'].apply(lambda x: ' '.join(x)).apply(dependency_parser)\n",
        "df.head()"
      ]
    },
    {
      "cell_type": "markdown",
      "metadata": {
        "id": "xWOtvT2rHNWy"
      },
      "source": [
        "**Write your explanations of the constituency parsing tree and dependency parsing tree here (Question 3-2):** \n",
        "\n",
        "Constituency parsing is breaking a sentence into its sub-phrases in a tree like structure, where child nodes are sub-phrases and all leaf-nodes are words in the sentence. All non-terminal node represent a parts-of-speech tag - like a noun phrase, verb phrase, adjective phrase etc. \n",
        "\n",
        "Dependency parsing does not use sub-phrases like constituency parsing, but rather outlines the dependency between each word and other words in the sentence. It is expressed in a graph like format.\n"
      ]
    },
    {
      "cell_type": "code",
      "source": [
        "!pip install svgling\n",
        "from nltk.tree import Tree\n",
        "\n",
        "example_sentence = df[['constituency_tree', 'dependency_tree']].iloc[0]\n",
        "cons_tree = Tree.fromstring(example_sentence[0])\n",
        "cons_tree"
      ],
      "metadata": {
        "colab": {
          "base_uri": "https://localhost:8080/",
          "height": 336
        },
        "id": "TFxtRmXSyflX",
        "outputId": "1d1ae34e-2e51-4be7-dda9-10b050ae4523"
      },
      "execution_count": null,
      "outputs": [
        {
          "output_type": "stream",
          "name": "stdout",
          "text": [
            "Looking in indexes: https://pypi.org/simple, https://us-python.pkg.dev/colab-wheels/public/simple/\n",
            "Requirement already satisfied: svgling in /usr/local/lib/python3.7/dist-packages (0.3.1)\n",
            "Requirement already satisfied: svgwrite in /usr/local/lib/python3.7/dist-packages (from svgling) (1.4.3)\n"
          ]
        },
        {
          "output_type": "execute_result",
          "data": {
            "text/plain": [
              "Tree('S', [Tree('NP', [Tree('NP', [Tree('DT', ['The']), Tree('NN', ['time'])]), Tree('PP', [Tree('IN', ['for']), Tree('NP', [Tree('NN', ['action'])])])]), Tree('VP', [Tree('VBZ', ['is']), Tree('ADVP', [Tree('RB', ['now'])])]), Tree('.', ['.'])])"
            ],
            "image/svg+xml": "<svg baseProfile=\"full\" height=\"264px\" preserveAspectRatio=\"xMidYMid meet\" style=\"font-family: times, serif; font-weight:normal; font-style: normal; font-size: 16px;\" version=\"1.1\" viewBox=\"0,0,304.0,264.0\" width=\"304px\" xmlns=\"http://www.w3.org/2000/svg\" xmlns:ev=\"http://www.w3.org/2001/xml-events\" xmlns:xlink=\"http://www.w3.org/1999/xlink\"><defs /><svg width=\"100%\" x=\"0\" y=\"0em\"><defs /><text text-anchor=\"middle\" x=\"50%\" y=\"1em\">S</text></svg><svg width=\"63.1579%\" x=\"0%\" y=\"3em\"><defs /><svg width=\"100%\" x=\"0\" y=\"0em\"><defs /><text text-anchor=\"middle\" x=\"50%\" y=\"1em\">NP</text></svg><svg width=\"45.8333%\" x=\"0%\" y=\"3em\"><defs /><svg width=\"100%\" x=\"0\" y=\"0em\"><defs /><text text-anchor=\"middle\" x=\"50%\" y=\"1em\">NP</text></svg><svg width=\"45.4545%\" x=\"0%\" y=\"3em\"><defs /><svg width=\"100%\" x=\"0\" y=\"0em\"><defs /><text text-anchor=\"middle\" x=\"50%\" y=\"1em\">DT</text></svg><svg width=\"100%\" x=\"0%\" y=\"3em\"><defs /><svg width=\"100%\" x=\"0\" y=\"0em\"><defs /><text text-anchor=\"middle\" x=\"50%\" y=\"1em\">The</text></svg></svg><line stroke=\"black\" x1=\"50%\" x2=\"50%\" y1=\"1.2em\" y2=\"3em\" /></svg><line stroke=\"black\" x1=\"50%\" x2=\"22.7273%\" y1=\"1.2em\" y2=\"3em\" /><svg width=\"54.5455%\" x=\"45.4545%\" y=\"3em\"><defs /><svg width=\"100%\" x=\"0\" y=\"0em\"><defs /><text text-anchor=\"middle\" x=\"50%\" y=\"1em\">NN</text></svg><svg width=\"100%\" x=\"0%\" y=\"3em\"><defs /><svg width=\"100%\" x=\"0\" y=\"0em\"><defs /><text text-anchor=\"middle\" x=\"50%\" y=\"1em\">time</text></svg></svg><line stroke=\"black\" x1=\"50%\" x2=\"50%\" y1=\"1.2em\" y2=\"3em\" /></svg><line stroke=\"black\" x1=\"50%\" x2=\"72.7273%\" y1=\"1.2em\" y2=\"3em\" /></svg><line stroke=\"black\" x1=\"50%\" x2=\"22.9167%\" y1=\"1.2em\" y2=\"3em\" /><svg width=\"54.1667%\" x=\"45.8333%\" y=\"3em\"><defs /><svg width=\"100%\" x=\"0\" y=\"0em\"><defs /><text text-anchor=\"middle\" x=\"50%\" y=\"1em\">PP</text></svg><svg width=\"38.4615%\" x=\"0%\" y=\"3em\"><defs /><svg width=\"100%\" x=\"0\" y=\"0em\"><defs /><text text-anchor=\"middle\" x=\"50%\" y=\"1em\">IN</text></svg><svg width=\"100%\" x=\"0%\" y=\"3em\"><defs /><svg width=\"100%\" x=\"0\" y=\"0em\"><defs /><text text-anchor=\"middle\" x=\"50%\" y=\"1em\">for</text></svg></svg><line stroke=\"black\" x1=\"50%\" x2=\"50%\" y1=\"1.2em\" y2=\"3em\" /></svg><line stroke=\"black\" x1=\"50%\" x2=\"19.2308%\" y1=\"1.2em\" y2=\"3em\" /><svg width=\"61.5385%\" x=\"38.4615%\" y=\"3em\"><defs /><svg width=\"100%\" x=\"0\" y=\"0em\"><defs /><text text-anchor=\"middle\" x=\"50%\" y=\"1em\">NP</text></svg><svg width=\"100%\" x=\"0%\" y=\"3em\"><defs /><svg width=\"100%\" x=\"0\" y=\"0em\"><defs /><text text-anchor=\"middle\" x=\"50%\" y=\"1em\">NN</text></svg><svg width=\"100%\" x=\"0%\" y=\"3em\"><defs /><svg width=\"100%\" x=\"0\" y=\"0em\"><defs /><text text-anchor=\"middle\" x=\"50%\" y=\"1em\">action</text></svg></svg><line stroke=\"black\" x1=\"50%\" x2=\"50%\" y1=\"1.2em\" y2=\"3em\" /></svg><line stroke=\"black\" x1=\"50%\" x2=\"50%\" y1=\"1.2em\" y2=\"3em\" /></svg><line stroke=\"black\" x1=\"50%\" x2=\"69.2308%\" y1=\"1.2em\" y2=\"3em\" /></svg><line stroke=\"black\" x1=\"50%\" x2=\"72.9167%\" y1=\"1.2em\" y2=\"3em\" /></svg><line stroke=\"black\" x1=\"50%\" x2=\"31.5789%\" y1=\"1.2em\" y2=\"3em\" /><svg width=\"28.9474%\" x=\"63.1579%\" y=\"3em\"><defs /><svg width=\"100%\" x=\"0\" y=\"0em\"><defs /><text text-anchor=\"middle\" x=\"50%\" y=\"1em\">VP</text></svg><svg width=\"45.4545%\" x=\"0%\" y=\"3em\"><defs /><svg width=\"100%\" x=\"0\" y=\"0em\"><defs /><text text-anchor=\"middle\" x=\"50%\" y=\"1em\">VBZ</text></svg><svg width=\"100%\" x=\"0%\" y=\"3em\"><defs /><svg width=\"100%\" x=\"0\" y=\"0em\"><defs /><text text-anchor=\"middle\" x=\"50%\" y=\"1em\">is</text></svg></svg><line stroke=\"black\" x1=\"50%\" x2=\"50%\" y1=\"1.2em\" y2=\"3em\" /></svg><line stroke=\"black\" x1=\"50%\" x2=\"22.7273%\" y1=\"1.2em\" y2=\"3em\" /><svg width=\"54.5455%\" x=\"45.4545%\" y=\"3em\"><defs /><svg width=\"100%\" x=\"0\" y=\"0em\"><defs /><text text-anchor=\"middle\" x=\"50%\" y=\"1em\">ADVP</text></svg><svg width=\"100%\" x=\"0%\" y=\"3em\"><defs /><svg width=\"100%\" x=\"0\" y=\"0em\"><defs /><text text-anchor=\"middle\" x=\"50%\" y=\"1em\">RB</text></svg><svg width=\"100%\" x=\"0%\" y=\"3em\"><defs /><svg width=\"100%\" x=\"0\" y=\"0em\"><defs /><text text-anchor=\"middle\" x=\"50%\" y=\"1em\">now</text></svg></svg><line stroke=\"black\" x1=\"50%\" x2=\"50%\" y1=\"1.2em\" y2=\"3em\" /></svg><line stroke=\"black\" x1=\"50%\" x2=\"50%\" y1=\"1.2em\" y2=\"3em\" /></svg><line stroke=\"black\" x1=\"50%\" x2=\"72.7273%\" y1=\"1.2em\" y2=\"3em\" /></svg><line stroke=\"black\" x1=\"50%\" x2=\"77.6316%\" y1=\"1.2em\" y2=\"3em\" /><svg width=\"7.89474%\" x=\"92.1053%\" y=\"3em\"><defs /><svg width=\"100%\" x=\"0\" y=\"0em\"><defs /><text text-anchor=\"middle\" x=\"50%\" y=\"1em\">.</text></svg><svg width=\"100%\" x=\"0%\" y=\"3em\"><defs /><svg width=\"100%\" x=\"0\" y=\"0em\"><defs /><text text-anchor=\"middle\" x=\"50%\" y=\"1em\">.</text></svg></svg><line stroke=\"black\" x1=\"50%\" x2=\"50%\" y1=\"1.2em\" y2=\"3em\" /></svg><line stroke=\"black\" x1=\"50%\" x2=\"96.0526%\" y1=\"1.2em\" y2=\"3em\" /></svg>"
          },
          "metadata": {},
          "execution_count": 42
        }
      ]
    },
    {
      "cell_type": "markdown",
      "source": [
        "As you can see the constituency tree has words as left nodes and sub-phrases the denote to parts-of-speech in non-leaf nodes."
      ],
      "metadata": {
        "id": "_3qFNxxx40j8"
      }
    },
    {
      "cell_type": "code",
      "source": [
        "dep_tree = example_sentence[1]\n",
        "print(dep_tree)"
      ],
      "metadata": {
        "colab": {
          "base_uri": "https://localhost:8080/"
        },
        "id": "qVMk4n0q3UVd",
        "outputId": "9ea5ec9d-31a3-41fb-9aab-02d3e3fb7d3c"
      },
      "execution_count": null,
      "outputs": [
        {
          "output_type": "stream",
          "name": "stdout",
          "text": [
            "{been: {'relation': 'advcl', 'head': 'use', 'children': '[month]'}, almost: {'relation': 'advmod', 'head': 'month', 'children': '[]'}, month: {'relation': 'attr', 'head': 'been', 'children': '[almost]'}, i: {'relation': 'nsubj', 'head': 'use', 'children': '[]'}, use: {'relation': 'ccomp', 'head': 'came', 'children': '[been, i, claim, allow]'}, iphon: {'relation': 'compound', 'head': 'gb', 'children': '[]'}, gb: {'relation': 'nmod', 'head': 'compani', 'children': '[iphon]'}, appl: {'relation': 'advmod', 'head': 'known', 'children': '[]'}, known: {'relation': 'amod', 'head': 'compani', 'children': '[appl]'}, one: {'relation': 'nummod', 'head': 'phone', 'children': '[]'}, premium: {'relation': 'compound', 'head': 'phone', 'children': '[]'}, phone: {'relation': 'compound', 'head': 'qualiti', 'children': '[one, premium]'}, manufactur: {'relation': 'compound', 'head': 'qualiti', 'children': '[]'}, compromis: {'relation': 'compound', 'head': 'qualiti', 'children': '[]'}, qualiti: {'relation': 'compound', 'head': 'user', 'children': '[phone, manufactur, compromis]'}, user: {'relation': 'compound', 'head': 'compani', 'children': '[qualiti]'}, experi: {'relation': 'compound', 'head': 'compani', 'children': '[]'}, simplic: {'relation': 'compound', 'head': 'compani', 'children': '[]'}, compani: {'relation': 'nsubj', 'head': 'claim', 'children': '[gb, known, user, experi, simplic]'}, claim: {'relation': 'ccomp', 'head': 'use', 'children': '[compani, it, appeal]'}, it: {'relation': 'dobj', 'head': 'claim', 'children': '[]'}, certain: {'relation': 'amod', 'head': 'market', 'children': '[]'}, appl: {'relation': 'amod', 'head': 'appeal', 'children': '[]'}, product: {'relation': 'compound', 'head': 'brand', 'children': '[]'}, brand: {'relation': 'compound', 'head': 'appeal', 'children': '[product]'}, appeal: {'relation': 'compound', 'head': 'market', 'children': '[appl, brand]'}, indian: {'relation': 'amod', 'head': 'market', 'children': '[]'}, market: {'relation': 'nsubj', 'head': 'appeal', 'children': '[certain, appeal, indian]'}, thi: {'relation': 'aux', 'head': 'appeal', 'children': '[]'}, appeal: {'relation': 'ccomp', 'head': 'claim', 'children': '[market, thi]'}, allow: {'relation': 'ccomp', 'head': 'use', 'children': '[differ]'}, charg: {'relation': 'compound', 'head': 'opinion', 'children': '[]'}, surplu: {'relation': 'amod', 'head': 'product', 'children': '[]'}, custom: {'relation': 'compound', 'head': 'product', 'children': '[]'}, product: {'relation': 'compound', 'head': 'opinion', 'children': '[surplu, custom]'}, opinion: {'relation': 'nsubj', 'head': 'differ', 'children': '[charg, product]'}, differ: {'relation': 'ccomp', 'head': 'allow', 'children': '[opinion, justifi, for, ’, build]'}, justifi: {'relation': 'dobj', 'head': 'differ', 'children': '[]'}, for: {'relation': 'prep', 'head': 'differ', 'children': '[phone]'}, i: {'relation': 'nsubj', 'head': 'phone', 'children': '[]'}, like: {'relation': 'intj', 'head': 'phone', 'children': '[]'}, evalu: {'relation': 'compound', 'head': 'phone', 'children': '[]'}, phone: {'relation': 'pobj', 'head': 'for', 'children': '[i, like, evalu]'}, ’: {'relation': 'punct', 'head': 'differ', 'children': '[]'}, featur: {'relation': 'det', 'head': 'costth', 'children': '[]'}, costth: {'relation': 'nsubj', 'head': 'build', 'children': '[featur]'}, build: {'relation': 'ccomp', 'head': 'differ', 'children': '[costth, qualiti, and, curv]'}, qualiti: {'relation': 'dobj', 'head': 'build', 'children': '[]'}, and: {'relation': 'cc', 'head': 'build', 'children': '[]'}, design: {'relation': 'compound', 'head': 'phone', 'children': '[]'}, phone: {'relation': 'compound', 'head': 'fantast', 'children': '[design]'}, absolut: {'relation': 'compound', 'head': 'fantast', 'children': '[]'}, fantast: {'relation': 'nsubj', 'head': 'curv', 'children': '[phone, absolut]'}, curv: {'relation': 'conj', 'head': 'build', 'children': '[fantast, premium, pick]'}, right: {'relation': 'amod', 'head': 'place', 'children': '[]'}, place: {'relation': 'compound', 'head': 'premium', 'children': '[right]'}, tactil: {'relation': 'compound', 'head': 'button', 'children': '[]'}, button: {'relation': 'compound', 'head': 'premium', 'children': '[tactil]'}, scream: {'relation': 'compound', 'head': 'premium', 'children': '[]'}, premium: {'relation': 'dobj', 'head': 'curv', 'children': '[place, button, scream]'}, when: {'relation': 'advmod', 'head': 'pick', 'children': '[]'}, pick: {'relation': 'advcl', 'head': 'curv', 'children': '[when, weight]'}, phone: {'relation': 'compound', 'head': 'foot', 'children': '[]'}, foot: {'relation': 'compound', 'head': 'weight', 'children': '[phone]'}, weight: {'relation': 'dobj', 'head': 'pick', 'children': '[foot]'}, i: {'relation': 'nsubj', 'head': 'came', 'children': '[]'}, came: {'relation': 'ROOT', 'head': 'came', 'children': '[use, i, thing, seri]'}, phone: {'relation': 'compound', 'head': 'samsung', 'children': '[]'}, samsung: {'relation': 'compound', 'head': 'galaxi', 'children': '[phone]'}, galaxi: {'relation': 'nmod', 'head': 'thing', 'children': '[samsung]'}, first: {'relation': 'amod', 'head': 'thing', 'children': '[]'}, thing: {'relation': 'attr', 'head': 'came', 'children': '[galaxi, first, thi]'}, i: {'relation': 'nmod', 'head': 'weight', 'children': '[]'}, notic: {'relation': 'amod', 'head': 'weight', 'children': '[]'}, dispar: {'relation': 'compound', 'head': 'weight', 'children': '[]'}, weight: {'relation': 'nsubj', 'head': 'thi', 'children': '[i, notic, dispar]'}, thi: {'relation': 'relcl', 'head': 'thing', 'children': '[weight]'}, probabl: {'relation': 'nmod', 'head': 'screen', 'children': '[]'}, due: {'relation': 'amod', 'head': 'screen', 'children': '[]'}, lcd: {'relation': 'compound', 'head': 'screen', 'children': '[]'}, screen: {'relation': 'nmod', 'head': 'galaxi', 'children': '[probabl, due, lcd]'}, former: {'relation': 'amod', 'head': 'galaxi', 'children': '[]'}, compar: {'relation': 'compound', 'head': 'galaxi', 'children': '[]'}, ole: {'relation': 'compound', 'head': 'galaxi', 'children': '[]'}, galaxi: {'relation': 'nsubj', 'head': 'seri', 'children': '[screen, former, compar, ole]'}, seri: {'relation': 'conj', 'head': 'came', 'children': '[galaxi, polish, it]'}, the: {'relation': 'det', 'head': 'iphon', 'children': '[]'}, screen: {'relation': 'compound', 'head': 'iphon', 'children': '[]'}, iphon: {'relation': 'nsubj', 'head': 'polish', 'children': '[the, screen]'}, “: {'relation': 'punct', 'head': 'highli', 'children': '[]'}, liquid: {'relation': 'amod', 'head': 'display', 'children': '[]'}, retina: {'relation': 'amod', 'head': 'display', 'children': '[]'}, display: {'relation': 'nmod', 'head': 'highli', 'children': '[liquid, retina]'}, ”: {'relation': 'punct', 'head': 'highli', 'children': '[]'}, fanci: {'relation': 'compound', 'head': 'term', 'children': '[]'}, term: {'relation': 'compound', 'head': 'highli', 'children': '[fanci]'}, highli: {'relation': 'compound', 'head': 'polish', 'children': '[“, display, ”, term]'}, polish: {'relation': 'ccomp', 'head': 'seri', 'children': '[iphon, highli, screen]'}, well: {'relation': 'intj', 'head': 'screen', 'children': '[]'}, optimis: {'relation': 'amod', 'head': 'screen', 'children': '[]'}, lcd: {'relation': 'compound', 'head': 'screen', 'children': '[]'}, screen: {'relation': 'dobj', 'head': 'polish', 'children': '[well, optimis, lcd]'}, it: {'relation': 'dep', 'head': 'seri', 'children': '[]'}, good: {'relation': 'amod', 'head': 'screen', 'children': '[]'}, screen: {'relation': 'nsubj', 'head': 'notic', 'children': '[good, slightli]'}, it: {'relation': 'nsubj', 'head': 'slightli', 'children': '[]'}, slightli: {'relation': 'relcl', 'head': 'screen', 'children': '[it, peopl]'}, p: {'relation': 'compound', 'head': 'resolut', 'children': '[]'}, resolut: {'relation': 'compound', 'head': 'peopl', 'children': '[p]'}, everyday: {'relation': 'amod', 'head': 'peopl', 'children': '[]'}, activ: {'relation': 'compound', 'head': 'peopl', 'children': '[]'}, peopl: {'relation': 'dobj', 'head': 'slightli', 'children': '[resolut, everyday, activ]'}, wo: {'relation': 'aux', 'head': 'notic', 'children': '[n’t]'}, n’t: {'relation': 'neg', 'head': 'wo', 'children': '[]'}, notic: {'relation': 'ROOT', 'head': 'notic', 'children': '[screen, wo, notic, shell]'}, i: {'relation': 'nsubj', 'head': 'notic', 'children': '[]'}, notic: {'relation': 'ccomp', 'head': 'notic', 'children': '[i, for]'}, for: {'relation': 'prep', 'head': 'notic', 'children': '[phone]'}, screen: {'relation': 'nmod', 'head': 'phone', 'children': '[]'}, major: {'relation': 'amod', 'head': 'phone', 'children': '[]'}, downsid: {'relation': 'compound', 'head': 'phone', 'children': '[]'}, phone: {'relation': 'pobj', 'head': 'for', 'children': '[screen, major, downsid]'}, you: {'relation': 'nsubj', 'head': 'shell', 'children': '[]'}, shell: {'relation': 'ccomp', 'head': 'notic', 'children': '[you, screen]'}, almost: {'relation': 'advmod', 'head': '₹', 'children': '[]'}, ₹: {'relation': 'nmod', 'head': 'screen', 'children': '[almost]'}, custom: {'relation': 'compound', 'head': 'deserv', 'children': '[]'}, deserv: {'relation': 'compound', 'head': 'least', 'children': '[custom]'}, least: {'relation': 'advmod', 'head': 'p', 'children': '[deserv]'}, p: {'relation': 'amod', 'head': 'screen', 'children': '[least]'}, full: {'relation': 'amod', 'head': 'screen', 'children': '[]'}, hd: {'relation': 'compound', 'head': 'screen', 'children': '[]'}, screen: {'relation': 'dobj', 'head': 'shell', 'children': '[₹, p, full, hd]'}, today: {'relation': 'nmod', 'head': 'phone', 'children': '[]'}, “: {'relation': 'punct', 'head': 'phone', 'children': '[]'}, budget: {'relation': 'nmod', 'head': 'phone', 'children': '[]'}, ”: {'relation': 'punct', 'head': 'phone', 'children': '[]'}, phone: {'relation': 'nsubj', 'head': 'come', 'children': '[today, “, budget, ”]'}, come: {'relation': 'ROOT', 'head': 'come', 'children': '[phone, appl, definit, appreci]'}, p: {'relation': 'amod', 'head': 'step', 'children': '[]'}, screen: {'relation': 'compound', 'head': 'step', 'children': '[]'}, step: {'relation': 'npadvmod', 'head': 'appl', 'children': '[p, screen, back]'}, back: {'relation': 'advmod', 'head': 'step', 'children': '[]'}, appl: {'relation': 'advmod', 'head': 'come', 'children': '[step]'}, definit: {'relation': 'npadvmod', 'head': 'come', 'children': '[]'}, appreci: {'relation': 'npadvmod', 'head': 'come', 'children': '[]'}, it: {'relation': 'nsubj', 'head': 'mention', 'children': '[also]'}, also: {'relation': 'advmod', 'head': 'it', 'children': '[]'}, necessari: {'relation': 'compound', 'head': 'mention', 'children': '[]'}, mention: {'relation': 'ccomp', 'head': 'compar', 'children': '[it, necessari, prefer]'}, i: {'relation': 'nsubj', 'head': 'prefer', 'children': '[]'}, prefer: {'relation': 'ccomp', 'head': 'mention', 'children': '[i, lcd]'}, ole: {'relation': 'compound', 'head': 'screen', 'children': '[]'}, screen: {'relation': 'compound', 'head': 'lcd', 'children': '[ole]'}, lcd: {'relation': 'dobj', 'head': 'prefer', 'children': '[screen, ratio]'}, due: {'relation': 'amod', 'head': 'ratio', 'children': '[]'}, deep: {'relation': 'amod', 'head': 'ratio', 'children': '[]'}, black: {'relation': 'amod', 'head': 'ratio', 'children': '[]'}, high: {'relation': 'amod', 'head': 'ratio', 'children': '[]'}, contrast: {'relation': 'compound', 'head': 'ratio', 'children': '[]'}, ratio: {'relation': 'appos', 'head': 'lcd', 'children': '[due, deep, black, high, contrast, but, screen]'}, but: {'relation': 'cc', 'head': 'ratio', 'children': '[]'}, surprisingli: {'relation': 'compound', 'head': 'screen', 'children': '[]'}, lcd: {'relation': 'compound', 'head': 'screen', 'children': '[]'}, screen: {'relation': 'conj', 'head': 'ratio', 'children': '[surprisingli, lcd, screen]'}, iphon: {'relation': 'nmod', 'head': 'screen', 'children': '[]'}, better: {'relation': 'amod', 'head': 'screen', 'children': '[]'}, ole: {'relation': 'compound', 'head': 'screen', 'children': '[]'}, screen: {'relation': 'appos', 'head': 'screen', 'children': '[iphon, better, ole]'}, i: {'relation': 'nsubj', 'head': 'compar', 'children': '[]'}, compar: {'relation': 'ccomp', 'head': 'note', 'children': '[mention, i, resolut]'}, toalbeit: {'relation': 'compound', 'head': 'compar', 'children': '[]'}, compar: {'relation': 'compound', 'head': 'resolut', 'children': '[toalbeit]'}, resolut: {'relation': 'dobj', 'head': 'compar', 'children': '[compar]'}, xaomi: {'relation': 'compound', 'head': 'note', 'children': '[]'}, note: {'relation': 'ROOT', 'head': 'note', 'children': '[compar, xaomi, ridicul]'}, seri: {'relation': 'amod', 'head': 'ridicul', 'children': '[]'}, vivo: {'relation': 'compound', 'head': 'oppo', 'children': '[]'}, oppo: {'relation': 'compound', 'head': 'ridicul', 'children': '[vivo]'}, onli: {'relation': 'compound', 'head': 'screen', 'children': '[]'}, samsung: {'relation': 'compound', 'head': 'screen', 'children': '[]'}, screen: {'relation': 'compound', 'head': 'ridicul', 'children': '[onli, samsung]'}, ridicul: {'relation': 'dobj', 'head': 'note', 'children': '[seri, oppo, screen, amaz, m, iphon]'}, amaz: {'relation': 'acl', 'head': 'ridicul', 'children': '[]'}, even: {'relation': 'advmod', 'head': 'm', 'children': '[]'}, m: {'relation': 'punct', 'head': 'ridicul', 'children': '[even]'}, seri: {'relation': 'amod', 'head': 'iphon', 'children': '[]'}, phonesanoth: {'relation': 'compound', 'head': 'iphon', 'children': '[]'}, posit: {'relation': 'compound', 'head': 'iphon', 'children': '[]'}, iphon: {'relation': 'appos', 'head': 'ridicul', 'children': '[seri, phonesanoth, posit]'}, amaz: {'relation': 'advcl', 'head': 'heavi', 'children': '[life]'}, batteri: {'relation': 'amod', 'head': 'life', 'children': '[]'}, life: {'relation': 'dobj', 'head': 'amaz', 'children': '[batteri]'}, i: {'relation': 'nsubj', 'head': 'heavi', 'children': '[]'}, heavi: {'relation': 'ccomp', 'head': 'say', 'children': '[amaz, i, lot, time, thi, day, but, box, want]'}, user: {'relation': 'compound', 'head': 'lot', 'children': '[]'}, lot: {'relation': 'dobj', 'head': 'heavi', 'children': '[user]'}, video: {'relation': 'compound', 'head': 'stream', 'children': '[]'}, stream: {'relation': 'compound', 'head': 'time', 'children': '[video]'}, music: {'relation': 'compound', 'head': 'time', 'children': '[]'}, time: {'relation': 'npadvmod', 'head': 'heavi', 'children': '[stream, music, meet]'}, bluetooth: {'relation': 'compound', 'head': 'confer', 'children': '[]'}, wifi: {'relation': 'compound', 'head': 'multipl', 'children': '[]'}, locat: {'relation': 'compound', 'head': 'multipl', 'children': '[]'}, brow: {'relation': 'compound', 'head': 'multipl', 'children': '[]'}, multipl: {'relation': 'compound', 'head': 'daili', 'children': '[wifi, locat, brow]'}, call: {'relation': 'compound', 'head': 'daili', 'children': '[]'}, daili: {'relation': 'compound', 'head': 'confer', 'children': '[multipl, call]'}, video: {'relation': 'compound', 'head': 'confer', 'children': '[]'}, confer: {'relation': 'nsubj', 'head': 'meet', 'children': '[bluetooth, daili, video]'}, meet: {'relation': 'relcl', 'head': 'time', 'children': '[confer, person]'}, push: {'relation': 'compound', 'head': 'email', 'children': '[]'}, email: {'relation': 'compound', 'head': 'offici', 'children': '[push]'}, offici: {'relation': 'compound', 'head': 'person', 'children': '[email]'}, person: {'relation': 'dobj', 'head': 'meet', 'children': '[offici]'}, light: {'relation': 'nmod', 'head': 'brow', 'children': '[]'}, brow: {'relation': 'nmod', 'head': 'photosvideo', 'children': '[light]'}, social: {'relation': 'amod', 'head': 'site', 'children': '[]'}, medium: {'relation': 'amod', 'head': 'site', 'children': '[]'}, site: {'relation': 'compound', 'head': 'lot', 'children': '[social, medium]'}, lot: {'relation': 'compound', 'head': 'photosvideo', 'children': '[site]'}, photosvideo: {'relation': 'nsubj', 'head': 'thi', 'children': '[brow, lot]'}, thi: {'relation': 'ccomp', 'head': 'heavi', 'children': '[photosvideo, surviv]'}, beast: {'relation': 'compound', 'head': 'surviv', 'children': '[]'}, surviv: {'relation': 'dobj', 'head': 'thi', 'children': '[beast]'}, whole: {'relation': 'amod', 'head': 'day', 'children': '[]'}, day: {'relation': 'npadvmod', 'head': 'heavi', 'children': '[whole]'}, but: {'relation': 'cc', 'head': 'heavi', 'children': '[]'}, thing: {'relation': 'compound', 'head': 'irk', 'children': '[]'}, irk: {'relation': 'compound', 'head': 'box', 'children': '[thing]'}, puni: {'relation': 'compound', 'head': 'watt', 'children': '[]'}, watt: {'relation': 'compound', 'head': 'box', 'children': '[puni]'}, charger: {'relation': 'compound', 'head': 'box', 'children': '[]'}, box: {'relation': 'conj', 'head': 'heavi', 'children': '[irk, watt, charger, take, suggest]'}, it: {'relation': 'nsubj', 'head': 'take', 'children': '[]'}, take: {'relation': 'relcl', 'head': 'box', 'children': '[it, charg]'}, close: {'relation': 'amod', 'head': 'charg', 'children': '[]'}, h: {'relation': 'compound', 'head': 'charg', 'children': '[]'}, charg: {'relation': 'dobj', 'head': 'take', 'children': '[close, h]'}, i: {'relation': 'nsubj', 'head': 'suggest', 'children': '[]'}, suggest: {'relation': 'relcl', 'head': 'box', 'children': '[i, buy]'}, buy: {'relation': 'xcomp', 'head': 'suggest', 'children': '[sold]'}, watt: {'relation': 'compound', 'head': 'charger', 'children': '[]'}, charger: {'relation': 'nsubj', 'head': 'sold', 'children': '[watt]'}, sold: {'relation': 'ccomp', 'head': 'buy', 'children': '[charger, separ, appl]'}, separ: {'relation': 'dobj', 'head': 'sold', 'children': '[]'}, appl: {'relation': 'prep', 'head': 'sold', 'children': '[part]'}, provid: {'relation': 'compound', 'head': 'watt', 'children': '[]'}, watt: {'relation': 'compound', 'head': 'price', 'children': '[provid]'}, charger: {'relation': 'compound', 'head': 'price', 'children': '[]'}, box: {'relation': 'compound', 'head': 'price', 'children': '[]'}, price: {'relation': 'compound', 'head': 'pointanoth', 'children': '[watt, charger, box]'}, pointanoth: {'relation': 'compound', 'head': 'part', 'children': '[price]'}, frustrat: {'relation': 'compound', 'head': 'part', 'children': '[]'}, part: {'relation': 'pobj', 'head': 'appl', 'children': '[pointanoth, frustrat]'}, appl: {'relation': 'nmod', 'head': 'requir', 'children': '[icloud]'}, ecosystem: {'relation': 'compound', 'head': 'icloud', 'children': '[]'}, icloud: {'relation': 'pobj', 'head': 'appl', 'children': '[ecosystem]'}, storag: {'relation': 'compound', 'head': 'requir', 'children': '[]'}, essenti: {'relation': 'compound', 'head': 'requir', 'children': '[]'}, requir: {'relation': 'nsubj', 'head': 'want', 'children': '[appl, storag, essenti]'}, want: {'relation': 'ccomp', 'head': 'heavi', 'children': '[requir, back, gb, appl]'}, back: {'relation': 'advmod', 'head': 'want', 'children': '[]'}, phonephoto: {'relation': 'nmod', 'head': 'cost', 'children': '[etc]'}, etc: {'relation': 'prep', 'head': 'phonephoto', 'children': '[]'}, cost: {'relation': 'compound', 'head': 'gb', 'children': '[phonephoto]'}, ₹: {'relation': 'compound', 'head': 'gb', 'children': '[]'}, gb: {'relation': 'dobj', 'head': 'want', 'children': '[cost, ₹, per]'}, per: {'relation': 'prep', 'head': 'gb', 'children': '[month]'}, month: {'relation': 'pobj', 'head': 'per', 'children': '[]'}, appl: {'relation': 'prep', 'head': 'want', 'children': '[pull]'}, pull: {'relation': 'pcomp', 'head': 'appl', 'children': '[servic]'}, ecosystem: {'relation': 'compound', 'head': 'servic', 'children': '[]'}, servic: {'relation': 'dobj', 'head': 'pull', 'children': '[ecosystem]'}, i: {'relation': 'nsubj', 'head': 'say', 'children': '[]'}, must: {'relation': 'aux', 'head': 'say', 'children': '[]'}, say: {'relation': 'ROOT', 'head': 'say', 'children': '[heavi, i, must, excel, seamless, phrase, allow]'}, excel: {'relation': 'xcomp', 'head': 'say', 'children': '[stress]'}, the: {'relation': 'det', 'head': 'stress', 'children': '[]'}, appl: {'relation': 'compound', 'head': 'ecosystem', 'children': '[]'}, ecosystem: {'relation': 'compound', 'head': 'stress', 'children': '[appl]'}, stress: {'relation': 'dobj', 'head': 'excel', 'children': '[the, ecosystem, free]'}, free: {'relation': 'amod', 'head': 'stress', 'children': '[]'}, seamless: {'relation': 'advmod', 'head': 'say', 'children': '[]'}, the: {'relation': 'det', 'head': 'phrase', 'children': '[]'}, phrase: {'relation': 'dobj', 'head': 'say', 'children': '[the, works, work, realli]'}, “: {'relation': 'punct', 'head': 'works', 'children': '[]'}, it: {'relation': 'nsubj', 'head': 'works', 'children': '[]'}, works: {'relation': 'appos', 'head': 'phrase', 'children': '[“, it, ”]'}, ”: {'relation': 'punct', 'head': 'works', 'children': '[]'}, realli: {'relation': 'compound', 'head': 'work', 'children': '[]'}, work: {'relation': 'appos', 'head': 'phrase', 'children': '[realli, macbook]'}, i: {'relation': 'nsubj', 'head': 'macbook', 'children': '[]'}, macbook: {'relation': 'relcl', 'head': 'work', 'children': '[i]'}, pro: {'relation': 'amod', 'head': 'iphon', 'children': '[]'}, iphon: {'relation': 'compound', 'head': 'realli', 'children': '[pro]'}, work: {'relation': 'compound', 'head': 'realli', 'children': '[]'}, realli: {'relation': 'appos', 'head': 'phrase', 'children': '[iphon, work]'}, well: {'relation': 'intj', 'head': 'allow', 'children': '[]'}, laptop: {'relation': 'nsubj', 'head': 'allow', 'children': '[]'}, allow: {'relation': 'advcl', 'head': 'say', 'children': '[well, laptop, messag, right, laptopth]'}, answer: {'relation': 'compound', 'head': 'call', 'children': '[]'}, call: {'relation': 'compound', 'head': 'messag', 'children': '[answer]'}, messag: {'relation': 'dobj', 'head': 'allow', 'children': '[call]'}, right: {'relation': 'advmod', 'head': 'allow', 'children': '[]'}, laptopth: {'relation': 'ccomp', 'head': 'allow', 'children': '[one]'}, one: {'relation': 'dobj', 'head': 'laptopth', 'children': '[]'}, featur: {'relation': 'dep', 'head': 'was', 'children': '[]'}, i: {'relation': 'nsubj', 'head': 'was', 'children': '[recognit]'}, was: {'relation': 'ROOT', 'head': 'was', 'children': '[featur, i, n’t, sure, grew, absolut]'}, n’t: {'relation': 'neg', 'head': 'was', 'children': '[]'}, sure: {'relation': 'acomp', 'head': 'was', 'children': '[]'}, grew: {'relation': 'dep', 'head': 'was', 'children': '[start]'}, start: {'relation': 'dep', 'head': 'grew', 'children': '[]'}, pandem: {'relation': 'compound', 'head': 'face', 'children': '[]'}, face: {'relation': 'compound', 'head': 'recognit', 'children': '[pandem]'}, recognit: {'relation': 'appos', 'head': 'i', 'children': '[face]'}, it: {'relation': 'nsubj', 'head': 'absolut', 'children': '[]'}, ’: {'relation': 'punct', 'head': 'absolut', 'children': '[]'}, safe: {'relation': 'amod', 'head': 'absolut', 'children': '[]'}, secur: {'relation': 'amod', 'head': 'absolut', 'children': '[]'}, absolut: {'relation': 'ccomp', 'head': 'was', 'children': '[it, ’, safe, secur, amaz]'}, amaz: {'relation': 'acl', 'head': 'absolut', 'children': '[work]'}, it: {'relation': 'nsubj', 'head': 'work', 'children': '[]'}, work: {'relation': 'ccomp', 'head': 'amaz', 'children': '[it]'}, authent: {'relation': 'compound', 'head': 'requir', 'children': '[]'}, requir: {'relation': 'compound', 'head': 'beauti', 'children': '[authent]'}, phone: {'relation': 'compound', 'head': 'beauti', 'children': '[]'}, beauti: {'relation': 'ROOT', 'head': 'beauti', 'children': '[requir, phone, understand]'}, i: {'relation': 'nsubj', 'head': 'understand', 'children': '[]'}, understand: {'relation': 'relcl', 'head': 'beauti', 'children': '[i, pixel]'}, appeal: {'relation': 'compound', 'head': 'face', 'children': '[]'}, face: {'relation': 'compound', 'head': 'pixel', 'children': '[appeal]'}, recognit: {'relation': 'nmod', 'head': 'pixel', 'children': '[]'}, “: {'relation': 'punct', 'head': 'pixel', 'children': '[]'}, soli: {'relation': 'nmod', 'head': 'googl', 'children': '[]'}, ”: {'relation': 'punct', 'head': 'googl', 'children': '[]'}, chip: {'relation': 'compound', 'head': 'googl', 'children': '[]'}, googl: {'relation': 'compound', 'head': 'pixel', 'children': '[soli, ”, chip]'}, pixel: {'relation': 'ccomp', 'head': 'understand', 'children': '[face, recognit, “, googl]'}, btw: {'relation': 'advmod', 'head': 'face', 'children': '[]'}, pandem: {'relation': 'compound', 'head': 'mask', 'children': '[]'}, accompani: {'relation': 'compound', 'head': 'mask', 'children': '[]'}, mask: {'relation': 'compound', 'head': 'hurdl', 'children': '[pandem, accompani]'}, creat: {'relation': 'compound', 'head': 'hurdl', 'children': '[]'}, hurdl: {'relation': 'nsubj', 'head': 'face', 'children': '[mask, creat]'}, face: {'relation': 'ccomp', 'head': 'wonder', 'children': '[btw, hurdl, recognit]'}, recognit: {'relation': 'dobj', 'head': 'face', 'children': '[]'}, today: {'relation': 'npadvmod', 'head': 'wonder', 'children': '[]'}, i: {'relation': 'nsubj', 'head': 'wonder', 'children': '[]'}, wonder: {'relation': 'ROOT', 'head': 'wonder', 'children': '[face, today, i, camera, made]'}, fingerprint: {'relation': 'nsubj', 'head': 'camera', 'children': '[]'}, would: {'relation': 'aux', 'head': 'camera', 'children': '[]'}, better: {'relation': 'amod', 'head': 'camera', 'children': '[]'}, fanci: {'relation': 'compound', 'head': 'favourit', 'children': '[]'}, face: {'relation': 'compound', 'head': 'favourit', 'children': '[]'}, recognitionon: {'relation': 'compound', 'head': 'favourit', 'children': '[]'}, favourit: {'relation': 'compound', 'head': 'camera', 'children': '[fanci, face, recognitionon]'}, camera: {'relation': 'dobj', 'head': 'wonder', 'children': '[fingerprint, would, better, favourit, it]'}, it: {'relation': 'appos', 'head': 'camera', 'children': '[’]'}, ’: {'relation': 'punct', 'head': 'it', 'children': '[]'}, appl: {'relation': 'advmod', 'head': 'made', 'children': '[]'}, they: {'relation': 'nsubj', 'head': 'made', 'children': '[]'}, made: {'relation': 'ccomp', 'head': 'wonder', 'children': '[appl, they, camera, say]'}, name: {'relation': 'nsubj', 'head': 'reput', 'children': '[]'}, reput: {'relation': 'amod', 'head': 'camera', 'children': '[name]'}, camera: {'relation': 'dobj', 'head': 'made', 'children': '[reput]'}, i: {'relation': 'nsubj', 'head': 'say', 'children': '[]'}, wo: {'relation': 'aux', 'head': 'say', 'children': '[]'}, n’t: {'relation': 'neg', 'head': 'say', 'children': '[]'}, say: {'relation': 'ccomp', 'head': 'made', 'children': '[i, wo, n’t, topic, made, give]'}, much: {'relation': 'amod', 'head': 'topic', 'children': '[]'}, topic: {'relation': 'dobj', 'head': 'say', 'children': '[much, pixel]'}, it: {'relation': 'nsubj', 'head': 'pixel', 'children': '[]'}, ’: {'relation': 'punct', 'head': 'pixel', 'children': '[]'}, well: {'relation': 'advmod', 'head': 'known', 'children': '[]'}, known: {'relation': 'amod', 'head': 'googl', 'children': '[well]'}, onli: {'relation': 'compound', 'head': 'googl', 'children': '[]'}, googl: {'relation': 'nsubj', 'head': 'pixel', 'children': '[known, onli]'}, pixel: {'relation': 'relcl', 'head': 'topic', 'children': '[it, ’, googl, iphon]'}, compet: {'relation': 'compound', 'head': 'iphon', 'children': '[]'}, photo: {'relation': 'compound', 'head': 'iphon', 'children': '[]'}, depart: {'relation': 'compound', 'head': 'iphon', 'children': '[]'}, iphon: {'relation': 'dobj', 'head': 'pixel', 'children': '[compet, photo, depart]'}, definit: {'relation': 'compound', 'head': 'kingsanoth', 'children': '[]'}, video: {'relation': 'compound', 'head': 'kingsanoth', 'children': '[]'}, kingsanoth: {'relation': 'nmod', 'head': 'area', 'children': '[definit, video]'}, key: {'relation': 'compound', 'head': 'area', 'children': '[]'}, area: {'relation': 'compound', 'head': 'appl', 'children': '[kingsanoth, key]'}, appl: {'relation': 'nsubj', 'head': 'made', 'children': '[area]'}, made: {'relation': 'ccomp', 'head': 'say', 'children': '[appl, thi]'}, name: {'relation': 'compound', 'head': 'secur', 'children': '[]'}, secur: {'relation': 'compound', 'head': 'polici', 'children': '[name]'}, encrypt: {'relation': 'compound', 'head': 'polici', 'children': '[]'}, privaci: {'relation': 'compound', 'head': 'polici', 'children': '[]'}, polici: {'relation': 'nsubj', 'head': 'thi', 'children': '[secur, encrypt, privaci]'}, thi: {'relation': 'ccomp', 'head': 'made', 'children': '[polici, tagsi]'}, one: {'relation': 'nummod', 'head': 'tagsi', 'children': '[]'}, major: {'relation': 'amod', 'head': 'reason', 'children': '[]'}, reason: {'relation': 'compound', 'head': 'tagsi', 'children': '[major]'}, premium: {'relation': 'compound', 'head': 'price', 'children': '[]'}, price: {'relation': 'compound', 'head': 'tagsi', 'children': '[premium]'}, tagsi: {'relation': 'dobj', 'head': 'thi', 'children': '[one, reason, price]'}, give: {'relation': 'ccomp', 'head': 'say', 'children': '[star]'}, phone: {'relation': 'compound', 'head': 'star', 'children': '[]'}, enthusiast: {'relation': 'compound', 'head': 'star', 'children': '[]'}, star: {'relation': 'dobj', 'head': 'give', 'children': '[phone, enthusiast]'}, i: {'relation': 'nsubj', 'head': 'wish', 'children': '[]'}, wish: {'relation': 'ccomp', 'head': 'talk', 'children': '[i, point, p]'}, improv: {'relation': 'amod', 'head': 'screen', 'children': '[]'}, screen: {'relation': 'compound', 'head': 'point', 'children': '[improv]'}, price: {'relation': 'compound', 'head': 'point', 'children': '[]'}, point: {'relation': 'dobj', 'head': 'wish', 'children': '[screen, price]'}, least: {'relation': 'advmod', 'head': 'p', 'children': '[]'}, p: {'relation': 'conj', 'head': 'wish', 'children': '[least, box]'}, includ: {'relation': 'amod', 'head': 'respect', 'children': '[]'}, respect: {'relation': 'compound', 'head': 'box', 'children': '[includ]'}, charger: {'relation': 'compound', 'head': 'box', 'children': '[]'}, box: {'relation': 'dobj', 'head': 'p', 'children': '[respect, charger]'}, i: {'relation': 'nsubj', 'head': 'talk', 'children': '[]'}, talk: {'relation': 'ROOT', 'head': 'talk', 'children': '[wish, i]'}, o: {'relation': 'ROOT', 'head': 'o', 'children': '[]'}, i: {'relation': 'nsubj', 'head': 'believ', 'children': '[]'}, believ: {'relation': 'nmod', 'head': 'hardwar', 'children': '[i, io, choic]'}, io: {'relation': 'prep', 'head': 'believ', 'children': '[]'}, android: {'relation': 'compound', 'head': 'person', 'children': '[]'}, person: {'relation': 'nsubj', 'head': 'choic', 'children': '[android]'}, choic: {'relation': 'ccomp', 'head': 'believ', 'children': '[person, review]'}, i: {'relation': 'nsubj', 'head': 'review', 'children': '[]'}, review: {'relation': 'ccomp', 'head': 'choic', 'children': '[i, iphon]'}, key: {'relation': 'amod', 'head': 'iphon', 'children': '[]'}, featur: {'relation': 'compound', 'head': 'iphon', 'children': '[]'}, iphon: {'relation': 'dobj', 'head': 'review', 'children': '[key, featur]'}, it: {'relation': 'nsubj', 'head': 'hardwar', 'children': '[]'}, ’: {'relation': 'punct', 'head': 'hardwar', 'children': '[]'}, hardwar: {'relation': 'ROOT', 'head': 'hardwar', 'children': '[believ, it, ’]'}}\n"
          ]
        }
      ]
    },
    {
      "cell_type": "markdown",
      "source": [
        "As you can see the word \"been\" is realted to work \"advcl\" and is connected to the ROOT \"use\" and has one child \"month\". Dependency tree outlines the relationship between one word ot the next."
      ],
      "metadata": {
        "id": "M2OEhOra4kLA"
      }
    },
    {
      "cell_type": "code",
      "source": [
        "#3. Named entity recognition\n",
        "\n",
        "\"\"\"\n",
        "\n",
        " Extract all the entities such as person names, organizations, locations, product names, and date from the clean texts, \n",
        " calculate the count of each entity.\n",
        "\n",
        "\"\"\"\n",
        "import spacy\n",
        "from spacy import displacy\n",
        "\n",
        "NER = spacy.load(\"en_core_web_sm\")\n",
        "\n",
        "entity_count = {\n",
        "    'person_names' : 0,\n",
        "    'organizations' : 0,\n",
        "    'locations' : 0,\n",
        "    'product_names' : 0,\n",
        "    'date' : 0\n",
        "}\n",
        "\n",
        "def ner_recognition(s):\n",
        "  text = NER(s)\n",
        "  for word in text.ents:\n",
        "    if(word.label_ == 'PERSON'):\n",
        "      entity_count['person_names'] += 1\n",
        "    if(word.label_ == 'ORG'):\n",
        "      entity_count['organizations'] += 1\n",
        "    if(word.label_ == 'LOC'):\n",
        "      entity_count['locations'] += 1\n",
        "    if(word.label_ == 'PRODUCT'):\n",
        "      entity_count['product_names'] += 1\n",
        "    if(word.label_ == 'DATE'):\n",
        "      entity_count['date'] += 1\n",
        "\n",
        "\n",
        "df['cleaned_data'].apply(lambda x: ' '.join(x)).apply(ner_recognition)\n",
        "print(entity_count)"
      ],
      "metadata": {
        "colab": {
          "base_uri": "https://localhost:8080/"
        },
        "id": "5MsqZg2TBHj7",
        "outputId": "b3a950ea-0ac8-4c9a-c7e8-aea49f356f74"
      },
      "execution_count": 49,
      "outputs": [
        {
          "output_type": "stream",
          "name": "stdout",
          "text": [
            "{'person_names': 217, 'organizations': 107, 'locations': 1, 'product_names': 1, 'date': 91}\n"
          ]
        }
      ]
    }
  ],
  "metadata": {
    "colab": {
      "collapsed_sections": [],
      "provenance": [],
      "include_colab_link": true
    },
    "kernelspec": {
      "display_name": "Python 3 (ipykernel)",
      "language": "python",
      "name": "python3"
    },
    "language_info": {
      "codemirror_mode": {
        "name": "ipython",
        "version": 3
      },
      "file_extension": ".py",
      "mimetype": "text/x-python",
      "name": "python",
      "nbconvert_exporter": "python",
      "pygments_lexer": "ipython3",
      "version": "3.9.12"
    }
  },
  "nbformat": 4,
  "nbformat_minor": 0
}