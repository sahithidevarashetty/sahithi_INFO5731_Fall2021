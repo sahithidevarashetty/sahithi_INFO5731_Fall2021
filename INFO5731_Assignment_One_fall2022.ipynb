{
  "cells": [
    {
      "cell_type": "markdown",
      "metadata": {
        "id": "view-in-github",
        "colab_type": "text"
      },
      "source": [
        "<a href=\"https://colab.research.google.com/github/sahithidevarashetty/sahithi_INFO5731_Fall2021/blob/main/INFO5731_Assignment_One_fall2022.ipynb\" target=\"_parent\"><img src=\"https://colab.research.google.com/assets/colab-badge.svg\" alt=\"Open In Colab\"/></a>"
      ]
    },
    {
      "cell_type": "markdown",
      "metadata": {
        "id": "Ryk8D1Q4Wsrp"
      },
      "source": [
        "# **INFO5731 Assignment One**"
      ]
    },
    {
      "cell_type": "markdown",
      "metadata": {
        "id": "90_NR8c5XGWc"
      },
      "source": [
        "# Question 1\n",
        "\n",
        "(20 points). Write a Python program to generate 12 random numbers between 1 and 100. Sort the list of numbers in ascending order and print it out. Sort the list of numbers in descending order and print it out. Calculate the average for the group and print it out."
      ]
    },
    {
      "cell_type": "code",
      "execution_count": null,
      "metadata": {
        "colab": {
          "base_uri": "https://localhost:8080/"
        },
        "id": "5QX6bJjGWXY9",
        "outputId": "e9922925-bb1d-4c5d-84a8-753b6f66a339"
      },
      "outputs": [
        {
          "output_type": "stream",
          "name": "stdout",
          "text": [
            "Ascending order:  [6, 34, 39, 46, 50, 52, 54, 62, 63, 66, 75, 98]\n",
            "Descending order:  [98, 75, 66, 63, 62, 54, 52, 50, 46, 39, 34, 6]\n"
          ]
        }
      ],
      "source": [
        "# Your code here\n",
        "seed = 0\n",
        "import random\n",
        "count = 12\n",
        "numbers = []\n",
        "random.seed(seed)\n",
        "for n in range(count):\n",
        "  numbers.append(random.randrange(1,100))\n",
        "\n",
        "#ascending order\n",
        "numbers.sort()\n",
        "print(\"Ascending order: \", numbers)\n",
        "\n",
        "numbers.sort(reverse=True)\n",
        "print(\"Descending order: \", numbers)"
      ]
    },
    {
      "cell_type": "markdown",
      "metadata": {
        "id": "1F_PZdH9Sh49"
      },
      "source": [
        "# Question 2\n",
        "(25 points). Write a program that will do the following string formatting tasks:\n",
        "\n",
        "(1) Ask the user to enter two sentences.\n",
        "\n",
        "(2) Make each sentence into a list. Each element in the list should correspond to a word in the sentence. For example, if the sentence is \"Alas! Am I alive? This is my first python program\", the program should print out ['Alas, '!', 'Am', 'I', 'alive, '?', 'This', 'is', 'my', 'first', 'python', 'program'].\n",
        "\n",
        "(3) Compare the two sentences. Print out a list of words that occur in both sentences.\n",
        "\n",
        "(4) Remove any punctuation from the sentence and print it back out. It should remove at least the following characters, but it can remove more: period(“.”), comma (“,”), semicolon (“;”), and colon (“:”)\n",
        "\n",
        "(5) Count the number of vowels in the sentences. Print out each vowel and the number of times it appears in the sentences, such as: a:2, e:1, i:0, etc"
      ]
    },
    {
      "cell_type": "code",
      "execution_count": null,
      "metadata": {
        "colab": {
          "base_uri": "https://localhost:8080/"
        },
        "id": "Y0oOSlsOS0cq",
        "outputId": "7c3e5f8e-da95-47f5-efc2-6591382c1a89"
      },
      "outputs": [
        {
          "output_type": "stream",
          "name": "stdout",
          "text": [
            "Enter Sentence 1: Alas! Am I alive? This is my first python program\n",
            "Enter Sentence 2: Alas!\n",
            "Sentence 1:  ['Alas', '!', 'Am', 'I', 'alive', '?', 'This', 'is', 'my', 'first', 'python', 'program']\n",
            "Sentence 2:  ['Alas', '!']\n",
            "========================================\n",
            "Common words:  ['Alas', '!']\n",
            "========================================\n",
            "Filter punctuation:  ['Alas']\n",
            "========================================\n",
            "Vowels in Sentence 1: \n",
            "{'a': 3, 'i': 4, 'e': 1, 'o': 2}\n",
            "Vowels in Sentence 2: \n",
            "{'a': 1}\n"
          ]
        }
      ],
      "source": [
        "# Your code here\n",
        "import re\n",
        "import string\n",
        "sentenceOne = \"\"\n",
        "sentenceTwo = \"\"\n",
        "\n",
        "# 1. Ask for user input\n",
        "sentenceOne = input(\"Enter Sentence 1: \")\n",
        "sentenceTwo = input(\"Enter Sentence 2: \")\n",
        "\n",
        "# 2. Splint into list\n",
        "sentenceOneList = re.findall(r\"[\\w']+|[.,!?;]\", sentenceOne)\n",
        "print(\"Sentence 1: \", sentenceOneList)\n",
        "sentenceTwoList = re.findall(r\"[\\w']+|[.,!?;]\", sentenceTwo)\n",
        "print(\"Sentence 2: \", sentenceTwoList)\n",
        "\n",
        "#3. Compare sentences and print out words\n",
        "s = set(sentenceTwoList)\n",
        "commonWords = [x for x in sentenceOneList if x in s]\n",
        "print(\"==\"*20)\n",
        "print(\"Common words: \", commonWords)\n",
        "\n",
        "#4. Remove punctuation \n",
        "exclude = set(string.punctuation)\n",
        "filteredWords = [x for x in commonWords if x not in exclude]\n",
        "print(\"==\"*20)\n",
        "print(\"Filter punctuation: \", filteredWords)\n",
        "\n",
        "#5. Count number of vowels\n",
        "def countVowels(sentence):\n",
        "  vowels = ['a', 'e', 'i', 'o', 'u']\n",
        "  res = {}\n",
        "  for char in sentence:\n",
        "    if char in vowels and char in res:\n",
        "      res[char] += 1\n",
        "    elif char in vowels and char not in res:\n",
        "      res[char] = 1\n",
        "  return res\n",
        "\n",
        "print(\"==\"*20)\n",
        "print(\"Vowels in Sentence 1: \")\n",
        "print(countVowels(sentenceOne))\n",
        "print(\"Vowels in Sentence 2: \")\n",
        "print(countVowels(sentenceTwo))"
      ]
    },
    {
      "cell_type": "markdown",
      "metadata": {
        "id": "CmFoI4jDS9nx"
      },
      "source": [
        "# Question 3 \n",
        "\n",
        "(15 points). The formula that describes the volume V of a sphere with radius r is the following:\n",
        "\n",
        "$ V=\\frac{4}{3}\\ast\\ \\pi\\ast\\ r^3 $\n",
        "\n",
        "Write a program to calculate the value of V when r is in the range of 1–10. Output the result in the following format:\n",
        "\n",
        "\tr\tV\n",
        "\t1\t…\n",
        "\t2\t…\n",
        "\t3\t…\n"
      ]
    },
    {
      "cell_type": "code",
      "execution_count": null,
      "metadata": {
        "colab": {
          "base_uri": "https://localhost:8080/"
        },
        "id": "pEyqeioAT95b",
        "outputId": "25518653-08e7-4e32-b538-329980d49c5b"
      },
      "outputs": [
        {
          "output_type": "stream",
          "name": "stdout",
          "text": [
            "r\tV\n",
            "1\t4.1887902047863905\n",
            "2\t33.510321638291124\n",
            "3\t113.09733552923254\n",
            "4\t268.082573106329\n",
            "5\t523.5987755982989\n",
            "6\t904.7786842338603\n",
            "7\t1436.7550402417319\n",
            "8\t2144.660584850632\n",
            "9\t3053.6280592892786\n",
            "10\t4188.790204786391\n"
          ]
        }
      ],
      "source": [
        "# Your code here\n",
        "import math\n",
        "def calculateVolume(radius):\n",
        "  volume = (4/3) * math.pi * (radius ** 3)\n",
        "  return volume\n",
        "\n",
        "print(\"r\\tV\")\n",
        "for r in range(1, 11):\n",
        "  print('{}\\t{}'.format(r, calculateVolume(r)))\n"
      ]
    },
    {
      "cell_type": "markdown",
      "metadata": {
        "id": "z3tBE7E-Xn5X"
      },
      "source": [
        "# Question 4\n",
        "\n",
        "(40 points). In the field of Data Science, data is often formatted as a comma-delimited (CSV) file, where each line in a file corresponds to a field's value. Refer to Chapter 9 (p. 106) for more information on comma-delimited files. To answer this question, you will need to download the file [Assignment1_denton_housing.csv](https://raw.githubusercontent.com/unt-iialab/info5731-spring2022/main/assignments/Assignment1_denton_housing.csv) included with this assignment. The file [Assignment1_denton_housing.csv](https://raw.githubusercontent.com/unt-iialab/info5731-spring2022/main/assignments/Assignment1_denton_housing.csv) contains statistics about housing in the city of Denton from 2008 to 2014. Write a program to implement the following questions.\n",
        "\n",
        "(1) (10 pts) Calculate the difference in the number of Occupied Housing Units from year to year and print it. The difference must be calculated for the consecutive years such as 2008-2009, 2009-2010 etc. Finally, print the values in the ascending order.\n",
        "\n",
        "(2) (10 pts) For all the years, calculate the percentage of housing units which are vacant an occupied. Print the results in the following format:\n",
        "\n",
        "Year Vacant Housing Units Occupied Housing Units\n",
        "\n",
        "    2008  30%   70%                          \n",
        "\t2009 ----- -----\n",
        "\t2010 ----- -----\n",
        "    2011 ----- -----\n",
        "\t2012 ----- -----\n",
        "    2013 ----- -----\n",
        "\t2014 ----- -----\n",
        "  \n",
        "  \n",
        "\n",
        "(3) (10 pts) Calculate and print the valued and years in which the highest number of housing units were vacant and occupied. Print the results in the following format:  \n",
        "\n",
        "                              Year\tValue\n",
        "\tVacant Housing Units\t  -----   -----\n",
        "\tOccupied Housing Units\t-----   -----\n",
        "\n",
        "(4) (10 pts) Calculate the harmonic mean of the total housing units and print it out. You can find the information about harmonic mean here: https://ncalculators.com/statistics/harmonic-mean-calculator.htm"
      ]
    },
    {
      "cell_type": "code",
      "execution_count": null,
      "metadata": {
        "colab": {
          "base_uri": "https://localhost:8080/"
        },
        "id": "lqGYuHBhcsRH",
        "outputId": "0bb61400-16ea-44df-acdf-0253267cb33f"
      },
      "outputs": [
        {
          "output_type": "stream",
          "name": "stdout",
          "text": [
            "{'2008 - 2009': -795, '2009 - 2010': 5091, '2010 - 2011': -303, '2011 - 2012': 1404, '2012 - 2013': 1565, '2013 - 2014': 2622}\n"
          ]
        }
      ],
      "source": [
        "# Your code here\n",
        "import pandas as pd\n",
        "\n",
        "#1. \n",
        "housing_df = pd.read_csv(\"Assignment1_denton_housing.csv\")\n",
        "occupied_housing = housing_df[housing_df['title_field'] == \"Occupied Housing Units\"] \n",
        "sorted_df = occupied_housing.sort_values(by=['year'])\n",
        "sorted_df['difference'] = sorted_df['value'].diff()\n",
        "\n",
        "years = sorted_df['year'].values\n",
        "result = {}\n",
        "for i in range(len(years) -1):\n",
        "  current_year = years[i]\n",
        "  next_year = years[i] + 1\n",
        "\n",
        "  current_value = sorted_df[sorted_df['year']==current_year]['value'].iloc[0]\n",
        "  next_value = sorted_df[sorted_df['year']==next_year]['value'].iloc[0]\n",
        "  key = '{} - {}'.format(current_year, next_year)\n",
        "\n",
        "  result[key] = next_value - current_value\n",
        "\n",
        "print(result)"
      ]
    },
    {
      "cell_type": "code",
      "source": [
        "#2. \n",
        "OCCUPIED = 'Occupied Housing Units'\n",
        "VACANT = 'Vacant Housing Units'\n",
        "vac_occupied = housing_df[(housing_df['title_field'] == OCCUPIED) | (housing_df['title_field'] == VACANT)]\n",
        "years = vac_occupied['year'].unique()\n",
        "years.sort()\n",
        "\n",
        "for year in years:\n",
        "  occupied_count = housing_df[(housing_df['title_field'] == OCCUPIED) & (housing_df['year'] == year)]['value'].iloc[0]\n",
        "  vacant_count = housing_df[(housing_df['title_field'] == VACANT) & (housing_df['year'] == year)]['value'].iloc[0]\n",
        "  total = occupied_count + vacant_count\n",
        "  \n",
        "  occupied_percentage = (occupied_count / total) * 100\n",
        "  vacant_percentage = (vacant_count / total) * 100\n",
        "\n",
        "  print('{} {:.2f}% {:.2f}% '.format(year, occupied_percentage, vacant_percentage))"
      ],
      "metadata": {
        "colab": {
          "base_uri": "https://localhost:8080/"
        },
        "id": "G7lz55AWtpy2",
        "outputId": "c8a270a9-2abe-4d38-fc4c-9944041344ee"
      },
      "execution_count": null,
      "outputs": [
        {
          "output_type": "stream",
          "name": "stdout",
          "text": [
            "2008 89.12% 10.88% \n",
            "2009 90.93% 9.07% \n",
            "2010 91.86% 8.14% \n",
            "2011 90.62% 9.38% \n",
            "2012 93.32% 6.68% \n",
            "2013 91.20% 8.80% \n",
            "2014 94.27% 5.73% \n"
          ]
        }
      ]
    },
    {
      "cell_type": "code",
      "source": [
        "vac_occupied = housing_df[(housing_df['title_field'] == OCCUPIED) | (housing_df['title_field'] == VACANT)]\n",
        "grouped = vac_occupied.groupby(['title_field', 'year']).max().reset_index().sort_values(by=['title_field','value'], ascending=False)\n",
        "res = grouped.groupby(['title_field']).first()\n",
        "res"
      ],
      "metadata": {
        "colab": {
          "base_uri": "https://localhost:8080/",
          "height": 142
        },
        "id": "eBpRDSGXvqPt",
        "outputId": "45196f8e-5512-4e60-ed33-38533bc65479"
      },
      "execution_count": null,
      "outputs": [
        {
          "output_type": "execute_result",
          "data": {
            "text/plain": [
              "                        year  value\n",
              "title_field                        \n",
              "Occupied Housing Units  2014  46295\n",
              "Vacant Housing Units    2008   4483"
            ],
            "text/html": [
              "\n",
              "  <div id=\"df-1a3f330f-731d-4e9a-bf6c-50fe6147c6c1\">\n",
              "    <div class=\"colab-df-container\">\n",
              "      <div>\n",
              "<style scoped>\n",
              "    .dataframe tbody tr th:only-of-type {\n",
              "        vertical-align: middle;\n",
              "    }\n",
              "\n",
              "    .dataframe tbody tr th {\n",
              "        vertical-align: top;\n",
              "    }\n",
              "\n",
              "    .dataframe thead th {\n",
              "        text-align: right;\n",
              "    }\n",
              "</style>\n",
              "<table border=\"1\" class=\"dataframe\">\n",
              "  <thead>\n",
              "    <tr style=\"text-align: right;\">\n",
              "      <th></th>\n",
              "      <th>year</th>\n",
              "      <th>value</th>\n",
              "    </tr>\n",
              "    <tr>\n",
              "      <th>title_field</th>\n",
              "      <th></th>\n",
              "      <th></th>\n",
              "    </tr>\n",
              "  </thead>\n",
              "  <tbody>\n",
              "    <tr>\n",
              "      <th>Occupied Housing Units</th>\n",
              "      <td>2014</td>\n",
              "      <td>46295</td>\n",
              "    </tr>\n",
              "    <tr>\n",
              "      <th>Vacant Housing Units</th>\n",
              "      <td>2008</td>\n",
              "      <td>4483</td>\n",
              "    </tr>\n",
              "  </tbody>\n",
              "</table>\n",
              "</div>\n",
              "      <button class=\"colab-df-convert\" onclick=\"convertToInteractive('df-1a3f330f-731d-4e9a-bf6c-50fe6147c6c1')\"\n",
              "              title=\"Convert this dataframe to an interactive table.\"\n",
              "              style=\"display:none;\">\n",
              "        \n",
              "  <svg xmlns=\"http://www.w3.org/2000/svg\" height=\"24px\"viewBox=\"0 0 24 24\"\n",
              "       width=\"24px\">\n",
              "    <path d=\"M0 0h24v24H0V0z\" fill=\"none\"/>\n",
              "    <path d=\"M18.56 5.44l.94 2.06.94-2.06 2.06-.94-2.06-.94-.94-2.06-.94 2.06-2.06.94zm-11 1L8.5 8.5l.94-2.06 2.06-.94-2.06-.94L8.5 2.5l-.94 2.06-2.06.94zm10 10l.94 2.06.94-2.06 2.06-.94-2.06-.94-.94-2.06-.94 2.06-2.06.94z\"/><path d=\"M17.41 7.96l-1.37-1.37c-.4-.4-.92-.59-1.43-.59-.52 0-1.04.2-1.43.59L10.3 9.45l-7.72 7.72c-.78.78-.78 2.05 0 2.83L4 21.41c.39.39.9.59 1.41.59.51 0 1.02-.2 1.41-.59l7.78-7.78 2.81-2.81c.8-.78.8-2.07 0-2.86zM5.41 20L4 18.59l7.72-7.72 1.47 1.35L5.41 20z\"/>\n",
              "  </svg>\n",
              "      </button>\n",
              "      \n",
              "  <style>\n",
              "    .colab-df-container {\n",
              "      display:flex;\n",
              "      flex-wrap:wrap;\n",
              "      gap: 12px;\n",
              "    }\n",
              "\n",
              "    .colab-df-convert {\n",
              "      background-color: #E8F0FE;\n",
              "      border: none;\n",
              "      border-radius: 50%;\n",
              "      cursor: pointer;\n",
              "      display: none;\n",
              "      fill: #1967D2;\n",
              "      height: 32px;\n",
              "      padding: 0 0 0 0;\n",
              "      width: 32px;\n",
              "    }\n",
              "\n",
              "    .colab-df-convert:hover {\n",
              "      background-color: #E2EBFA;\n",
              "      box-shadow: 0px 1px 2px rgba(60, 64, 67, 0.3), 0px 1px 3px 1px rgba(60, 64, 67, 0.15);\n",
              "      fill: #174EA6;\n",
              "    }\n",
              "\n",
              "    [theme=dark] .colab-df-convert {\n",
              "      background-color: #3B4455;\n",
              "      fill: #D2E3FC;\n",
              "    }\n",
              "\n",
              "    [theme=dark] .colab-df-convert:hover {\n",
              "      background-color: #434B5C;\n",
              "      box-shadow: 0px 1px 3px 1px rgba(0, 0, 0, 0.15);\n",
              "      filter: drop-shadow(0px 1px 2px rgba(0, 0, 0, 0.3));\n",
              "      fill: #FFFFFF;\n",
              "    }\n",
              "  </style>\n",
              "\n",
              "      <script>\n",
              "        const buttonEl =\n",
              "          document.querySelector('#df-1a3f330f-731d-4e9a-bf6c-50fe6147c6c1 button.colab-df-convert');\n",
              "        buttonEl.style.display =\n",
              "          google.colab.kernel.accessAllowed ? 'block' : 'none';\n",
              "\n",
              "        async function convertToInteractive(key) {\n",
              "          const element = document.querySelector('#df-1a3f330f-731d-4e9a-bf6c-50fe6147c6c1');\n",
              "          const dataTable =\n",
              "            await google.colab.kernel.invokeFunction('convertToInteractive',\n",
              "                                                     [key], {});\n",
              "          if (!dataTable) return;\n",
              "\n",
              "          const docLinkHtml = 'Like what you see? Visit the ' +\n",
              "            '<a target=\"_blank\" href=https://colab.research.google.com/notebooks/data_table.ipynb>data table notebook</a>'\n",
              "            + ' to learn more about interactive tables.';\n",
              "          element.innerHTML = '';\n",
              "          dataTable['output_type'] = 'display_data';\n",
              "          await google.colab.output.renderOutput(dataTable, element);\n",
              "          const docLink = document.createElement('div');\n",
              "          docLink.innerHTML = docLinkHtml;\n",
              "          element.appendChild(docLink);\n",
              "        }\n",
              "      </script>\n",
              "    </div>\n",
              "  </div>\n",
              "  "
            ]
          },
          "metadata": {},
          "execution_count": 52
        }
      ]
    },
    {
      "cell_type": "code",
      "source": [
        "#4. Find Total harmonic mean\n",
        "total_housing_units = housing_df[housing_df['title_field'] == 'Total Housing Units']\n",
        "numbers = total_housing_units['value'].values\n",
        "\n",
        "def harmonicMean(numbers):\n",
        "  n = len(numbers)\n",
        "  denominator = 0\n",
        "  for num in numbers:\n",
        "    denominator += (1 / num)\n",
        "  \n",
        "  return n / denominator\n",
        "\n",
        "print(numbers)\n",
        "print(\"Harmonic mean: \", harmonicMean(numbers))"
      ],
      "metadata": {
        "colab": {
          "base_uri": "https://localhost:8080/"
        },
        "id": "7AFU7rT75wXX",
        "outputId": "b577e7bd-4fa7-44a3-8881-af0f4fdb5b2d"
      },
      "execution_count": null,
      "outputs": [
        {
          "output_type": "stream",
          "name": "stdout",
          "text": [
            "[49109 47888 45121 44917 44642 39499 41194]\n",
            "Harmonic mean:  44398.28543969185\n"
          ]
        }
      ]
    }
  ],
  "metadata": {
    "colab": {
      "collapsed_sections": [],
      "provenance": [],
      "include_colab_link": true
    },
    "kernelspec": {
      "display_name": "Python 3 (ipykernel)",
      "language": "python",
      "name": "python3"
    },
    "language_info": {
      "codemirror_mode": {
        "name": "ipython",
        "version": 3
      },
      "file_extension": ".py",
      "mimetype": "text/x-python",
      "name": "python",
      "nbconvert_exporter": "python",
      "pygments_lexer": "ipython3",
      "version": "3.9.12"
    }
  },
  "nbformat": 4,
  "nbformat_minor": 0
}