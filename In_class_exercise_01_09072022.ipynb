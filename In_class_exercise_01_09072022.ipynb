{
  "cells": [
    {
      "cell_type": "markdown",
      "metadata": {
        "id": "view-in-github",
        "colab_type": "text"
      },
      "source": [
        "<a href=\"https://colab.research.google.com/github/sahithidevarashetty/sahithi_INFO5731_Fall2021/blob/main/In_class_exercise_01_09072022.ipynb\" target=\"_parent\"><img src=\"https://colab.research.google.com/assets/colab-badge.svg\" alt=\"Open In Colab\"/></a>"
      ]
    },
    {
      "cell_type": "markdown",
      "metadata": {
        "id": "DymRJbxDBCnf"
      },
      "source": [
        "# **The first In-class-exercise (09/07/2022, 40 points in total)**"
      ]
    },
    {
      "cell_type": "markdown",
      "metadata": {
        "id": "03jb4GZsBkBS"
      },
      "source": [
        "(1) Write a Python program to calculate the length of a string. (4 points)"
      ]
    },
    {
      "cell_type": "code",
      "execution_count": null,
      "metadata": {
        "colab": {
          "base_uri": "https://localhost:8080/"
        },
        "id": "YaGLbSHHB8Ej",
        "outputId": "a95f1a0b-0c5b-4dbb-b16f-be1888519f8f"
      },
      "outputs": [
        {
          "output_type": "stream",
          "name": "stdout",
          "text": [
            "10\n"
          ]
        }
      ],
      "source": [
        "# write your answer here\n",
        "\n",
        "def calculateLength(s):\n",
        "  return len(s)\n",
        "\n",
        "print(calculateLength(\"testString\"))"
      ]
    },
    {
      "cell_type": "markdown",
      "metadata": {
        "id": "jJDe71iLB616"
      },
      "source": [
        "(2) Write a Python program to count the number of characters in a string. (4 points)\n",
        "\n",
        "Sample String : 'google.com‘, \n",
        "\n",
        "Expected Result : {'o': 3, 'g': 2, '.': 1, 'e': 1, 'l': 1, 'm': 1, 'c': 1}"
      ]
    },
    {
      "cell_type": "code",
      "execution_count": null,
      "metadata": {
        "colab": {
          "base_uri": "https://localhost:8080/"
        },
        "id": "MtKskTzbCLaU",
        "outputId": "9f27e838-25c7-421b-d71b-c7a687078ad1"
      },
      "outputs": [
        {
          "output_type": "stream",
          "name": "stdout",
          "text": [
            "{'g': 2, 'o': 3, 'l': 1, 'e': 1, '.': 1, 'c': 1, 'm': 1}\n"
          ]
        }
      ],
      "source": [
        "# write your answer here\n",
        "\n",
        "def calculateOccurances(s):\n",
        "  result = {}\n",
        "  for c in s:\n",
        "    if c in result:\n",
        "      result[c] = result[c] + 1\n",
        "    else:\n",
        "      result[c] = 1\n",
        "  return result\n",
        "\n",
        "print(calculateOccurances(\"google.com\"))"
      ]
    },
    {
      "cell_type": "markdown",
      "metadata": {
        "id": "55W9AMdXCSpV"
      },
      "source": [
        "(3) Write a Python program to sum all the items in a list. (4 points)"
      ]
    },
    {
      "cell_type": "code",
      "execution_count": null,
      "metadata": {
        "colab": {
          "base_uri": "https://localhost:8080/"
        },
        "id": "I57NXsauCec2",
        "outputId": "31ce55b5-844f-4208-dee8-f1e2f41e7722"
      },
      "outputs": [
        {
          "output_type": "stream",
          "name": "stdout",
          "text": [
            "6\n"
          ]
        }
      ],
      "source": [
        "# write your answer here\n",
        "def sumElements(numbers):\n",
        "  sum = 0\n",
        "  for num in numbers:\n",
        "    sum += num\n",
        "  return sum\n",
        "\n",
        "print(sumElements([1,2,3]))"
      ]
    },
    {
      "cell_type": "markdown",
      "metadata": {
        "id": "4ulBZ6yhCi9F"
      },
      "source": [
        "(4) Write a Python program to get a string from a given string where all occurrences of its first char have been changed to '\\$', except the first char itself. (4 points)\n",
        "\n",
        "Sample String : 'restart‘, \n",
        "\n",
        "Expected Result : 'resta\\$t'"
      ]
    },
    {
      "cell_type": "code",
      "execution_count": null,
      "metadata": {
        "colab": {
          "base_uri": "https://localhost:8080/"
        },
        "id": "Fj0XhwbBCw2o",
        "outputId": "77316b66-037f-4e65-e892-396205787e1f"
      },
      "outputs": [
        {
          "output_type": "stream",
          "name": "stdout",
          "text": [
            "resta$t\n"
          ]
        }
      ],
      "source": [
        "# write your answer here\n",
        "def replaceStrings(s):\n",
        "  result = []\n",
        "  firstChar = s[0]\n",
        "  seen = False\n",
        "\n",
        "  for char in s:\n",
        "    if seen and char == firstChar:\n",
        "      result.append('$')\n",
        "    else:\n",
        "      seen = True\n",
        "      result.append(char)\n",
        "  return \"\".join(result)\n",
        "\n",
        "print(replaceStrings(\"restart\"))"
      ]
    },
    {
      "cell_type": "markdown",
      "metadata": {
        "id": "_bIP7s1MCzue"
      },
      "source": [
        "(5) Write a program with python which could accept two parameter a and b to calculate and output the result of S, where \n",
        "\n",
        "$\\ S=3.14*(1+a/b)^3$ (4 points)\n",
        "\n"
      ]
    },
    {
      "cell_type": "code",
      "execution_count": null,
      "metadata": {
        "colab": {
          "base_uri": "https://localhost:8080/"
        },
        "id": "w79QilHXD3Mg",
        "outputId": "98f185a0-60de-4a72-b2ae-954c4b484856"
      },
      "outputs": [
        {
          "output_type": "stream",
          "name": "stdout",
          "text": [
            "10.5975\n"
          ]
        }
      ],
      "source": [
        "# write your answer here\n",
        "def calculateFormula(a, b):\n",
        "  s = 3.14 * ( 1 + (a/b) ) ** 3\n",
        "  return s\n",
        "\n",
        "print(calculateFormula(1,2))"
      ]
    },
    {
      "cell_type": "markdown",
      "metadata": {
        "id": "xCa2bK9aD4Q3"
      },
      "source": [
        "(6) Write a Python program to concatenate following dictionaries to create a new one. (4 points)\n",
        "\n",
        "Sample Dictionary : dic1={1:10, 2:20}, dic2={3:30, 4:40}, dic3={5:50,6:60}, \n",
        "\n",
        "Expected Result : {1: 10, 2: 20, 3: 30, 4: 40, 5: 50, 6: 60}\n"
      ]
    },
    {
      "cell_type": "code",
      "execution_count": null,
      "metadata": {
        "id": "_z4aLqAbEET1",
        "colab": {
          "base_uri": "https://localhost:8080/"
        },
        "outputId": "adf7c262-c7cc-46a2-bfc9-f163a5d7e68f"
      },
      "outputs": [
        {
          "output_type": "stream",
          "name": "stdout",
          "text": [
            "{1: 10, 2: 20, 3: 30, 4: 40, 5: 50, 6: 60}\n"
          ]
        }
      ],
      "source": [
        "# write your answer here\n",
        "def concatenateDict(dictionaries):\n",
        "  result = {}\n",
        "  for dictionary in dictionaries:\n",
        "    for key in dictionary:\n",
        "      if key in result:\n",
        "        result[key] += dictionary[key]\n",
        "      else:\n",
        "        result[key] = dictionary[key]\n",
        "  return result\n",
        "\n",
        "dict1 = {1:10,2:20}\n",
        "dict2 = {3:30,4:40}    \n",
        "dict3 = {5:50,6:60}\n",
        "\n",
        "print(concatenateDict([dict1, dict2, dict3]))"
      ]
    },
    {
      "cell_type": "markdown",
      "metadata": {
        "id": "0v48Vqa7FrQh"
      },
      "source": [
        "(7) Write a Python program to check whether an element exists within a tuple. (4 points)"
      ]
    },
    {
      "cell_type": "code",
      "execution_count": null,
      "metadata": {
        "id": "7WEmgq-DF2P1",
        "colab": {
          "base_uri": "https://localhost:8080/"
        },
        "outputId": "5d99cc42-0832-4e0e-a843-6cd372b0f5f6"
      },
      "outputs": [
        {
          "output_type": "execute_result",
          "data": {
            "text/plain": [
              "True"
            ]
          },
          "metadata": {},
          "execution_count": 5
        }
      ],
      "source": [
        "# write your answer here\n",
        "def checkExists(element, t):\n",
        "  if element in t:\n",
        "    return True\n",
        "  return False\n",
        "\n",
        "checkExists(20, (10, 20, 30))"
      ]
    },
    {
      "cell_type": "markdown",
      "metadata": {
        "id": "vD5PYLMuGga_"
      },
      "source": [
        "(8) Write a Python program to find maximum and the minimum value in a set. (4 points)"
      ]
    },
    {
      "cell_type": "code",
      "execution_count": null,
      "metadata": {
        "id": "t0D5kdJUGjjw",
        "colab": {
          "base_uri": "https://localhost:8080/"
        },
        "outputId": "8aa771a3-63a2-4903-a402-96eb923b4fea"
      },
      "outputs": [
        {
          "output_type": "stream",
          "name": "stdout",
          "text": [
            "(-999, 10000)\n"
          ]
        }
      ],
      "source": [
        "# write your answer here\n",
        "import sys\n",
        "\n",
        "def max_and_min(numbers_set):\n",
        "  max_num = -sys.maxsize - 1 \n",
        "  min_num = sys.maxsize\n",
        "\n",
        "  for num in numbers_set:\n",
        "    if num < min_num:\n",
        "      min_num = num\n",
        "    if num >= max_num:\n",
        "      max_num = num\n",
        "  return min_num, max_num\n",
        "\n",
        "print(max_and_min(set([-999,0,10000])))"
      ]
    },
    {
      "cell_type": "markdown",
      "metadata": {
        "id": "uHkd-y5VhVWC"
      },
      "source": [
        "(9) Write a Python program to randomly divide the students in this class into six groups for term projects, each group should have at least 4 students but no more than 6 students (including 6). Here is the students list: (4 points)\n",
        "\n",
        "studnet_list = ['ja0964','sa1198','sb1357','vb0218','sc1229','kg0569','kg0470','sg1297','bg0320','fh0141','jl1252','sk1386',\n",
        "           'ak0956','sk1390','sk1458','sk1313','ak0934','vm0377','nm0618','sm1640','sm1907','gn0108','pr0353','dr0609','ms1500','aos0040','ds0814', 'av0659','nv0234','hy0232']"
      ]
    },
    {
      "cell_type": "code",
      "execution_count": null,
      "metadata": {
        "id": "3iGbmcOBhTwy",
        "colab": {
          "base_uri": "https://localhost:8080/"
        },
        "outputId": "16f61f5d-2b81-42a7-de0e-6f1a5d03b66b"
      },
      "outputs": [
        {
          "output_type": "stream",
          "name": "stdout",
          "text": [
            "['jl1252', 'kg0569', 'vb0218', 'fh0141']\n",
            "['sk1313', 'av0659', 'gn0108', 'sm1640']\n",
            "['sc1229', 'dr0609', 'sk1390', 'ds0814', 'hy0232', 'sa1198']\n",
            "['kg0470', 'ak0956', 'vm0377', 'sk1458']\n",
            "['nm0618', 'ja0964', 'nv0234', 'ms1500', 'sb1357', 'ak0934']\n",
            "['sg1297', 'sm1907', 'bg0320', 'aos0040']\n"
          ]
        }
      ],
      "source": [
        "# write your answer here\n",
        "\n",
        "import random\n",
        "\n",
        "def divideStudents(students):\n",
        "  groups = [[], [], [], [], [], []]\n",
        "\n",
        "  for group in groups:\n",
        "    for i in range(0, random.choice([4,5,6])):\n",
        "      if(len(students) > 0):\n",
        "        random_pick = random.choice(students)\n",
        "        students.remove(random_pick)\n",
        "        group.append(random_pick)\n",
        "  \n",
        "    print(group)\n",
        "\n",
        "divideStudents(['ja0964','sa1198','sb1357','vb0218','sc1229','kg0569','kg0470','sg1297','bg0320','fh0141','jl1252','sk1386', 'ak0956','sk1390','sk1458','sk1313','ak0934','vm0377','nm0618','sm1640','sm1907','gn0108','pr0353','dr0609','ms1500','aos0040','ds0814', 'av0659','nv0234','hy0232'])\n"
      ]
    },
    {
      "cell_type": "markdown",
      "metadata": {
        "id": "ky4KsesJeLmv"
      },
      "source": [
        "(10) Write a Python program to find the duplicate elements in a given array of integers. Return -1 If there are no such elements. (4 points)"
      ]
    },
    {
      "cell_type": "code",
      "execution_count": null,
      "metadata": {
        "id": "2wlafmDjeLmw",
        "colab": {
          "base_uri": "https://localhost:8080/"
        },
        "outputId": "044d2068-f70b-4b78-ce98-8b90d355e273"
      },
      "outputs": [
        {
          "output_type": "execute_result",
          "data": {
            "text/plain": [
              "4"
            ]
          },
          "metadata": {},
          "execution_count": 24
        }
      ],
      "source": [
        "# write your answer here\n",
        "def checkDuplicate(numbers):\n",
        "  visited = set()\n",
        "  duplicate_exists = False\n",
        "  for num in numbers:\n",
        "    if num in visited:\n",
        "      duplicate_exists = True\n",
        "      return num\n",
        "    else:\n",
        "      visited.add(num)\n",
        "\n",
        "  if not duplicate_exists:\n",
        "    return -1\n",
        "\n",
        "checkDuplicate([1,2,3,4,5,6,4])"
      ]
    },
    {
      "cell_type": "markdown",
      "metadata": {
        "id": "Oc8r8xaeeLmw"
      },
      "source": [
        "(11) Write a Python program to select all the Sundays of a specified year. (4 extra points)"
      ]
    },
    {
      "cell_type": "code",
      "execution_count": null,
      "metadata": {
        "id": "5sdScYiUeLmw",
        "colab": {
          "base_uri": "https://localhost:8080/"
        },
        "outputId": "6ee598fb-68da-4a4c-da7a-5f44ccf6ae07"
      },
      "outputs": [
        {
          "output_type": "stream",
          "name": "stdout",
          "text": [
            "[datetime.date(2020, 1, 5), datetime.date(2020, 1, 12), datetime.date(2020, 1, 19), datetime.date(2020, 1, 26), datetime.date(2020, 2, 2), datetime.date(2020, 2, 9), datetime.date(2020, 2, 16), datetime.date(2020, 2, 23), datetime.date(2020, 3, 1), datetime.date(2020, 3, 8), datetime.date(2020, 3, 15), datetime.date(2020, 3, 22), datetime.date(2020, 3, 29), datetime.date(2020, 4, 5), datetime.date(2020, 4, 12), datetime.date(2020, 4, 19), datetime.date(2020, 4, 26), datetime.date(2020, 5, 3), datetime.date(2020, 5, 10), datetime.date(2020, 5, 17), datetime.date(2020, 5, 24), datetime.date(2020, 5, 31), datetime.date(2020, 6, 7), datetime.date(2020, 6, 14), datetime.date(2020, 6, 21), datetime.date(2020, 6, 28), datetime.date(2020, 7, 5), datetime.date(2020, 7, 12), datetime.date(2020, 7, 19), datetime.date(2020, 7, 26), datetime.date(2020, 8, 2), datetime.date(2020, 8, 9), datetime.date(2020, 8, 16), datetime.date(2020, 8, 23), datetime.date(2020, 8, 30), datetime.date(2020, 9, 6), datetime.date(2020, 9, 13), datetime.date(2020, 9, 20), datetime.date(2020, 9, 27), datetime.date(2020, 10, 4), datetime.date(2020, 10, 11), datetime.date(2020, 10, 18), datetime.date(2020, 10, 25), datetime.date(2020, 11, 1), datetime.date(2020, 11, 8), datetime.date(2020, 11, 15), datetime.date(2020, 11, 22), datetime.date(2020, 11, 29), datetime.date(2020, 12, 6), datetime.date(2020, 12, 13), datetime.date(2020, 12, 20), datetime.date(2020, 12, 27)]\n"
          ]
        }
      ],
      "source": [
        "# write your answer here\n",
        "from datetime import date, timedelta\n",
        "\n",
        "def getAllSundays(year):\n",
        "    sundays  = []\n",
        "    d = date(year, 1, 1)\n",
        "    d += timedelta(days = 6 - d.weekday())  \n",
        "    while d.year == year:\n",
        "      sundays.append(d)\n",
        "      d += timedelta(days = 7)\n",
        "    return sundays\n",
        "\n",
        "print(getAllSundays(2020))        "
      ]
    }
  ],
  "metadata": {
    "colab": {
      "collapsed_sections": [],
      "provenance": [],
      "include_colab_link": true
    },
    "kernelspec": {
      "display_name": "Python 3 (ipykernel)",
      "language": "python",
      "name": "python3"
    },
    "language_info": {
      "codemirror_mode": {
        "name": "ipython",
        "version": 3
      },
      "file_extension": ".py",
      "mimetype": "text/x-python",
      "name": "python",
      "nbconvert_exporter": "python",
      "pygments_lexer": "ipython3",
      "version": "3.9.12"
    }
  },
  "nbformat": 4,
  "nbformat_minor": 0
}